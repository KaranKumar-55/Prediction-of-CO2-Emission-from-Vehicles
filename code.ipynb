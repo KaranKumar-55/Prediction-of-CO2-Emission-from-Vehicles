{
 "cells": [
  {
   "attachments": {},
   "cell_type": "markdown",
   "metadata": {},
   "source": [
    "# EDA --> Exploraory Data Analysis"
   ]
  },
  {
   "attachments": {},
   "cell_type": "markdown",
   "metadata": {},
   "source": [
    "## Step-1 Importing the Libraries"
   ]
  },
  {
   "cell_type": "code",
   "execution_count": 174,
   "metadata": {},
   "outputs": [],
   "source": [
    "import pandas as pd\n",
    "import numpy as np\n",
    "import matplotlib.pyplot as plt\n",
    "import seaborn as sns\n",
    "import sklearn\n",
    "import missingno as msno\n",
    "import plotly.express as px\n",
    "\n",
    "# ignore warnings\n",
    "import warnings\n",
    "\n",
    "# To ignore all warnings\n",
    "warnings.filterwarnings('ignore')\n",
    "\n",
    "# Your code here\n",
    "\n"
   ]
  },
  {
   "attachments": {},
   "cell_type": "markdown",
   "metadata": {},
   "source": [
    "## Step-2 . Importing the Dataset"
   ]
  },
  {
   "cell_type": "code",
   "execution_count": 175,
   "metadata": {},
   "outputs": [],
   "source": [
    "# 'utf-8'\n",
    "df = pd.read_csv('MY1995_2023.csv', encoding='latin-1')\n"
   ]
  },
  {
   "attachments": {},
   "cell_type": "markdown",
   "metadata": {},
   "source": [
    "# Shape of Dataset"
   ]
  },
  {
   "cell_type": "code",
   "execution_count": 176,
   "metadata": {},
   "outputs": [
    {
     "name": "stdout",
     "output_type": "stream",
     "text": [
      "Total rows =  26896\n",
      "Total columns =  15\n"
     ]
    }
   ],
   "source": [
    "print(\"Total rows = \", df.shape[0])\n",
    "print(\"Total columns = \", df.shape[1])"
   ]
  },
  {
   "cell_type": "code",
   "execution_count": 177,
   "metadata": {},
   "outputs": [],
   "source": [
    "rows = df.shape[0]\n",
    "cols = df.shape[1]\n",
    "\n",
    "# chart that shows total rows and columns in the dataset\n"
   ]
  },
  {
   "attachments": {},
   "cell_type": "markdown",
   "metadata": {},
   "source": [
    "## Step - 4 Reviewing the Dataset\n",
    "We can review the dataset by looking at the first few rows of data. we can do that by using the head function in python. It helps provide an idea about the data structure."
   ]
  },
  {
   "cell_type": "code",
   "execution_count": 178,
   "metadata": {},
   "outputs": [
    {
     "data": {
      "text/html": [
       "<div>\n",
       "<style scoped>\n",
       "    .dataframe tbody tr th:only-of-type {\n",
       "        vertical-align: middle;\n",
       "    }\n",
       "\n",
       "    .dataframe tbody tr th {\n",
       "        vertical-align: top;\n",
       "    }\n",
       "\n",
       "    .dataframe thead th {\n",
       "        text-align: right;\n",
       "    }\n",
       "</style>\n",
       "<table border=\"1\" class=\"dataframe\">\n",
       "  <thead>\n",
       "    <tr style=\"text-align: right;\">\n",
       "      <th></th>\n",
       "      <th>MODEL YEAR</th>\n",
       "      <th>MAKE</th>\n",
       "      <th>MODEL # = high output engine</th>\n",
       "      <th>VEHICLE CLASS</th>\n",
       "      <th>ENGINE SIZE (L)</th>\n",
       "      <th>CYLINDERS</th>\n",
       "      <th>TRANSMISSION</th>\n",
       "      <th>FUEL TYPE</th>\n",
       "      <th>FUEL CONSUMPTION CITY (L/100 km)</th>\n",
       "      <th>FUEL CONSUMPTION HWY (L/100 km)</th>\n",
       "      <th>FUEL CONSUMPTION COMB (L/100 km)</th>\n",
       "      <th>FUEL CONSUMPTION COMB (mpg)</th>\n",
       "      <th>CO2 EMISSIONS (g/km)</th>\n",
       "      <th>CO2 RATING</th>\n",
       "      <th>SMOG RATING</th>\n",
       "    </tr>\n",
       "  </thead>\n",
       "  <tbody>\n",
       "    <tr>\n",
       "      <th>0</th>\n",
       "      <td>1995</td>\n",
       "      <td>ACURA</td>\n",
       "      <td>INTEGRA</td>\n",
       "      <td>SUBCOMPACT</td>\n",
       "      <td>1.8</td>\n",
       "      <td>4</td>\n",
       "      <td>A4</td>\n",
       "      <td>X</td>\n",
       "      <td>10.2</td>\n",
       "      <td>7.0</td>\n",
       "      <td>8.8</td>\n",
       "      <td>32</td>\n",
       "      <td>202</td>\n",
       "      <td>NaN</td>\n",
       "      <td>NaN</td>\n",
       "    </tr>\n",
       "    <tr>\n",
       "      <th>1</th>\n",
       "      <td>1995</td>\n",
       "      <td>ACURA</td>\n",
       "      <td>INTEGRA</td>\n",
       "      <td>SUBCOMPACT</td>\n",
       "      <td>1.8</td>\n",
       "      <td>4</td>\n",
       "      <td>M5</td>\n",
       "      <td>X</td>\n",
       "      <td>9.6</td>\n",
       "      <td>7.0</td>\n",
       "      <td>8.4</td>\n",
       "      <td>34</td>\n",
       "      <td>193</td>\n",
       "      <td>NaN</td>\n",
       "      <td>NaN</td>\n",
       "    </tr>\n",
       "    <tr>\n",
       "      <th>2</th>\n",
       "      <td>1995</td>\n",
       "      <td>ACURA</td>\n",
       "      <td>INTEGRA GS-R</td>\n",
       "      <td>SUBCOMPACT</td>\n",
       "      <td>1.8</td>\n",
       "      <td>4</td>\n",
       "      <td>M5</td>\n",
       "      <td>Z</td>\n",
       "      <td>9.4</td>\n",
       "      <td>7.0</td>\n",
       "      <td>8.3</td>\n",
       "      <td>34</td>\n",
       "      <td>191</td>\n",
       "      <td>NaN</td>\n",
       "      <td>NaN</td>\n",
       "    </tr>\n",
       "    <tr>\n",
       "      <th>3</th>\n",
       "      <td>1995</td>\n",
       "      <td>ACURA</td>\n",
       "      <td>LEGEND</td>\n",
       "      <td>COMPACT</td>\n",
       "      <td>3.2</td>\n",
       "      <td>6</td>\n",
       "      <td>A4</td>\n",
       "      <td>Z</td>\n",
       "      <td>12.6</td>\n",
       "      <td>8.9</td>\n",
       "      <td>10.9</td>\n",
       "      <td>26</td>\n",
       "      <td>251</td>\n",
       "      <td>NaN</td>\n",
       "      <td>NaN</td>\n",
       "    </tr>\n",
       "    <tr>\n",
       "      <th>4</th>\n",
       "      <td>1995</td>\n",
       "      <td>ACURA</td>\n",
       "      <td>LEGEND COUPE</td>\n",
       "      <td>COMPACT</td>\n",
       "      <td>3.2</td>\n",
       "      <td>6</td>\n",
       "      <td>A4</td>\n",
       "      <td>Z</td>\n",
       "      <td>13.0</td>\n",
       "      <td>9.3</td>\n",
       "      <td>11.3</td>\n",
       "      <td>25</td>\n",
       "      <td>260</td>\n",
       "      <td>NaN</td>\n",
       "      <td>NaN</td>\n",
       "    </tr>\n",
       "  </tbody>\n",
       "</table>\n",
       "</div>"
      ],
      "text/plain": [
       "   MODEL YEAR   MAKE MODEL # = high output engine VEHICLE CLASS  \\\n",
       "0        1995  ACURA                      INTEGRA    SUBCOMPACT   \n",
       "1        1995  ACURA                      INTEGRA    SUBCOMPACT   \n",
       "2        1995  ACURA                 INTEGRA GS-R    SUBCOMPACT   \n",
       "3        1995  ACURA                       LEGEND       COMPACT   \n",
       "4        1995  ACURA                 LEGEND COUPE       COMPACT   \n",
       "\n",
       "   ENGINE SIZE (L)  CYLINDERS TRANSMISSION FUEL TYPE  \\\n",
       "0              1.8          4           A4         X   \n",
       "1              1.8          4           M5         X   \n",
       "2              1.8          4           M5         Z   \n",
       "3              3.2          6           A4         Z   \n",
       "4              3.2          6           A4         Z   \n",
       "\n",
       "   FUEL CONSUMPTION CITY (L/100 km)  FUEL CONSUMPTION HWY (L/100 km)  \\\n",
       "0                              10.2                              7.0   \n",
       "1                               9.6                              7.0   \n",
       "2                               9.4                              7.0   \n",
       "3                              12.6                              8.9   \n",
       "4                              13.0                              9.3   \n",
       "\n",
       "   FUEL CONSUMPTION COMB (L/100 km)  FUEL CONSUMPTION COMB (mpg)  \\\n",
       "0                               8.8                           32   \n",
       "1                               8.4                           34   \n",
       "2                               8.3                           34   \n",
       "3                              10.9                           26   \n",
       "4                              11.3                           25   \n",
       "\n",
       "   CO2 EMISSIONS (g/km)  CO2 RATING  SMOG RATING  \n",
       "0                   202         NaN          NaN  \n",
       "1                   193         NaN          NaN  \n",
       "2                   191         NaN          NaN  \n",
       "3                   251         NaN          NaN  \n",
       "4                   260         NaN          NaN  "
      ]
     },
     "execution_count": 178,
     "metadata": {},
     "output_type": "execute_result"
    }
   ],
   "source": [
    "df.head()"
   ]
  },
  {
   "attachments": {},
   "cell_type": "markdown",
   "metadata": {},
   "source": [
    "# Information of dataset\n",
    "\n",
    "- We can now conduct the EDA after importing the dataset. \n",
    "- To get the basic information on the dataset \n",
    "- Number of null values, data types, and memory utilization."
   ]
  },
  {
   "cell_type": "code",
   "execution_count": 179,
   "metadata": {},
   "outputs": [
    {
     "name": "stdout",
     "output_type": "stream",
     "text": [
      "<class 'pandas.core.frame.DataFrame'>\n",
      "RangeIndex: 26896 entries, 0 to 26895\n",
      "Data columns (total 15 columns):\n",
      " #   Column                            Non-Null Count  Dtype  \n",
      "---  ------                            --------------  -----  \n",
      " 0   MODEL YEAR                        26896 non-null  int64  \n",
      " 1   MAKE                              26896 non-null  object \n",
      " 2   MODEL # = high output engine      26896 non-null  object \n",
      " 3   VEHICLE CLASS                     26896 non-null  object \n",
      " 4   ENGINE SIZE (L)                   26896 non-null  float64\n",
      " 5   CYLINDERS                         26896 non-null  int64  \n",
      " 6   TRANSMISSION                      26896 non-null  object \n",
      " 7   FUEL TYPE                         26896 non-null  object \n",
      " 8   FUEL CONSUMPTION CITY (L/100 km)  26896 non-null  float64\n",
      " 9   FUEL CONSUMPTION HWY (L/100 km)   26896 non-null  float64\n",
      " 10  FUEL CONSUMPTION COMB (L/100 km)  26896 non-null  float64\n",
      " 11  FUEL CONSUMPTION COMB (mpg)       26896 non-null  int64  \n",
      " 12  CO2 EMISSIONS (g/km)              26896 non-null  int64  \n",
      " 13  CO2 RATING                        7992 non-null   float64\n",
      " 14  SMOG RATING                       6882 non-null   float64\n",
      "dtypes: float64(6), int64(4), object(5)\n",
      "memory usage: 3.1+ MB\n"
     ]
    }
   ],
   "source": [
    "df.info()"
   ]
  },
  {
   "attachments": {},
   "cell_type": "markdown",
   "metadata": {},
   "source": [
    "## *Observations*:\n",
    "There are 15 attributes in which 6 are float64, 5 are objects and 4 are int64."
   ]
  },
  {
   "cell_type": "code",
   "execution_count": 180,
   "metadata": {},
   "outputs": [
    {
     "data": {
      "text/plain": [
       "<Axes: xlabel='CO2 EMISSIONS (g/km)', ylabel='Density'>"
      ]
     },
     "execution_count": 180,
     "metadata": {},
     "output_type": "execute_result"
    },
    {
     "data": {
      "image/png": "[encoded data removed]",
      "text/plain": [
       "<Figure size 800x800 with 1 Axes>"
      ]
     },
     "metadata": {},
     "output_type": "display_data"
    }
   ],
   "source": [
    "sns.distplot(df[\"CO2 EMISSIONS (g/km)\"])"
   ]
  },
  {
   "cell_type": "code",
   "execution_count": 181,
   "metadata": {},
   "outputs": [
    {
     "data": {
      "text/html": [
       "<div>\n",
       "<style scoped>\n",
       "    .dataframe tbody tr th:only-of-type {\n",
       "        vertical-align: middle;\n",
       "    }\n",
       "\n",
       "    .dataframe tbody tr th {\n",
       "        vertical-align: top;\n",
       "    }\n",
       "\n",
       "    .dataframe thead th {\n",
       "        text-align: right;\n",
       "    }\n",
       "</style>\n",
       "<table border=\"1\" class=\"dataframe\">\n",
       "  <thead>\n",
       "    <tr style=\"text-align: right;\">\n",
       "      <th></th>\n",
       "      <th>count</th>\n",
       "      <th>mean</th>\n",
       "      <th>std</th>\n",
       "      <th>min</th>\n",
       "      <th>25%</th>\n",
       "      <th>50%</th>\n",
       "      <th>75%</th>\n",
       "      <th>max</th>\n",
       "    </tr>\n",
       "  </thead>\n",
       "  <tbody>\n",
       "    <tr>\n",
       "      <th>MODEL YEAR</th>\n",
       "      <td>26896.0</td>\n",
       "      <td>2009.985797</td>\n",
       "      <td>7.949788</td>\n",
       "      <td>1995.0</td>\n",
       "      <td>2004.0</td>\n",
       "      <td>2010.0</td>\n",
       "      <td>2017.0</td>\n",
       "      <td>2023.0</td>\n",
       "    </tr>\n",
       "    <tr>\n",
       "      <th>ENGINE SIZE (L)</th>\n",
       "      <td>26896.0</td>\n",
       "      <td>3.348903</td>\n",
       "      <td>1.342920</td>\n",
       "      <td>0.8</td>\n",
       "      <td>2.3</td>\n",
       "      <td>3.0</td>\n",
       "      <td>4.2</td>\n",
       "      <td>8.4</td>\n",
       "    </tr>\n",
       "    <tr>\n",
       "      <th>CYLINDERS</th>\n",
       "      <td>26896.0</td>\n",
       "      <td>5.837039</td>\n",
       "      <td>1.802219</td>\n",
       "      <td>2.0</td>\n",
       "      <td>4.0</td>\n",
       "      <td>6.0</td>\n",
       "      <td>8.0</td>\n",
       "      <td>16.0</td>\n",
       "    </tr>\n",
       "    <tr>\n",
       "      <th>FUEL CONSUMPTION CITY (L/100 km)</th>\n",
       "      <td>26896.0</td>\n",
       "      <td>12.808369</td>\n",
       "      <td>3.468859</td>\n",
       "      <td>3.5</td>\n",
       "      <td>10.5</td>\n",
       "      <td>12.3</td>\n",
       "      <td>14.8</td>\n",
       "      <td>30.6</td>\n",
       "    </tr>\n",
       "    <tr>\n",
       "      <th>FUEL CONSUMPTION HWY (L/100 km)</th>\n",
       "      <td>26896.0</td>\n",
       "      <td>8.953101</td>\n",
       "      <td>2.272619</td>\n",
       "      <td>3.2</td>\n",
       "      <td>7.4</td>\n",
       "      <td>8.5</td>\n",
       "      <td>10.3</td>\n",
       "      <td>20.9</td>\n",
       "    </tr>\n",
       "    <tr>\n",
       "      <th>FUEL CONSUMPTION COMB (L/100 km)</th>\n",
       "      <td>26896.0</td>\n",
       "      <td>11.074022</td>\n",
       "      <td>2.891434</td>\n",
       "      <td>3.6</td>\n",
       "      <td>9.1</td>\n",
       "      <td>10.6</td>\n",
       "      <td>12.8</td>\n",
       "      <td>26.1</td>\n",
       "    </tr>\n",
       "    <tr>\n",
       "      <th>FUEL CONSUMPTION COMB (mpg)</th>\n",
       "      <td>26896.0</td>\n",
       "      <td>27.252714</td>\n",
       "      <td>7.305496</td>\n",
       "      <td>11.0</td>\n",
       "      <td>22.0</td>\n",
       "      <td>27.0</td>\n",
       "      <td>31.0</td>\n",
       "      <td>78.0</td>\n",
       "    </tr>\n",
       "    <tr>\n",
       "      <th>CO2 EMISSIONS (g/km)</th>\n",
       "      <td>26896.0</td>\n",
       "      <td>251.786883</td>\n",
       "      <td>60.179570</td>\n",
       "      <td>83.0</td>\n",
       "      <td>209.0</td>\n",
       "      <td>244.0</td>\n",
       "      <td>290.0</td>\n",
       "      <td>608.0</td>\n",
       "    </tr>\n",
       "    <tr>\n",
       "      <th>CO2 RATING</th>\n",
       "      <td>7992.0</td>\n",
       "      <td>4.648023</td>\n",
       "      <td>1.604059</td>\n",
       "      <td>1.0</td>\n",
       "      <td>4.0</td>\n",
       "      <td>5.0</td>\n",
       "      <td>6.0</td>\n",
       "      <td>10.0</td>\n",
       "    </tr>\n",
       "    <tr>\n",
       "      <th>SMOG RATING</th>\n",
       "      <td>6882.0</td>\n",
       "      <td>4.741645</td>\n",
       "      <td>1.786312</td>\n",
       "      <td>1.0</td>\n",
       "      <td>3.0</td>\n",
       "      <td>5.0</td>\n",
       "      <td>6.0</td>\n",
       "      <td>8.0</td>\n",
       "    </tr>\n",
       "  </tbody>\n",
       "</table>\n",
       "</div>"
      ],
      "text/plain": [
       "                                    count         mean        std     min  \\\n",
       "MODEL YEAR                        26896.0  2009.985797   7.949788  1995.0   \n",
       "ENGINE SIZE (L)                   26896.0     3.348903   1.342920     0.8   \n",
       "CYLINDERS                         26896.0     5.837039   1.802219     2.0   \n",
       "FUEL CONSUMPTION CITY (L/100 km)  26896.0    12.808369   3.468859     3.5   \n",
       "FUEL CONSUMPTION HWY (L/100 km)   26896.0     8.953101   2.272619     3.2   \n",
       "FUEL CONSUMPTION COMB (L/100 km)  26896.0    11.074022   2.891434     3.6   \n",
       "FUEL CONSUMPTION COMB (mpg)       26896.0    27.252714   7.305496    11.0   \n",
       "CO2 EMISSIONS (g/km)              26896.0   251.786883  60.179570    83.0   \n",
       "CO2 RATING                         7992.0     4.648023   1.604059     1.0   \n",
       "SMOG RATING                        6882.0     4.741645   1.786312     1.0   \n",
       "\n",
       "                                     25%     50%     75%     max  \n",
       "MODEL YEAR                        2004.0  2010.0  2017.0  2023.0  \n",
       "ENGINE SIZE (L)                      2.3     3.0     4.2     8.4  \n",
       "CYLINDERS                            4.0     6.0     8.0    16.0  \n",
       "FUEL CONSUMPTION CITY (L/100 km)    10.5    12.3    14.8    30.6  \n",
       "FUEL CONSUMPTION HWY (L/100 km)      7.4     8.5    10.3    20.9  \n",
       "FUEL CONSUMPTION COMB (L/100 km)     9.1    10.6    12.8    26.1  \n",
       "FUEL CONSUMPTION COMB (mpg)         22.0    27.0    31.0    78.0  \n",
       "CO2 EMISSIONS (g/km)               209.0   244.0   290.0   608.0  \n",
       "CO2 RATING                           4.0     5.0     6.0    10.0  \n",
       "SMOG RATING                          3.0     5.0     6.0     8.0  "
      ]
     },
     "execution_count": 181,
     "metadata": {},
     "output_type": "execute_result"
    }
   ],
   "source": [
    "df.describe().T"
   ]
  },
  {
   "attachments": {},
   "cell_type": "markdown",
   "metadata": {},
   "source": [
    "## Step -6 Cleaning and understanding the data"
   ]
  },
  {
   "cell_type": "code",
   "execution_count": 182,
   "metadata": {},
   "outputs": [
    {
     "data": {
      "text/plain": [
       "MODEL YEAR                              0\n",
       "MAKE                                    0\n",
       "MODEL # = high output engine            0\n",
       "VEHICLE CLASS                           0\n",
       "ENGINE SIZE (L)                         0\n",
       "CYLINDERS                               0\n",
       "TRANSMISSION                            0\n",
       "FUEL TYPE                               0\n",
       "FUEL CONSUMPTION CITY (L/100 km)        0\n",
       "FUEL CONSUMPTION HWY (L/100 km)         0\n",
       "FUEL CONSUMPTION COMB (L/100 km)        0\n",
       "FUEL CONSUMPTION COMB (mpg)             0\n",
       "CO2 EMISSIONS (g/km)                    0\n",
       "CO2 RATING                          18904\n",
       "SMOG RATING                         20014\n",
       "dtype: int64"
      ]
     },
     "execution_count": 182,
     "metadata": {},
     "output_type": "execute_result"
    }
   ],
   "source": [
    "df.isnull().sum()"
   ]
  },
  {
   "attachments": {},
   "cell_type": "markdown",
   "metadata": {},
   "source": [
    "### Graphically Representation"
   ]
  },
  {
   "cell_type": "code",
   "execution_count": 183,
   "metadata": {},
   "outputs": [
    {
     "data": {
      "text/plain": [
       "<Axes: >"
      ]
     },
     "execution_count": 183,
     "metadata": {},
     "output_type": "execute_result"
    },
    {
     "data": {
      "image/png": "[encoded data removed]",
      "text/plain": [
       "<Figure size 2500x1000 with 2 Axes>"
      ]
     },
     "metadata": {},
     "output_type": "display_data"
    }
   ],
   "source": [
    "msno.matrix(df)"
   ]
  },
  {
   "attachments": {},
   "cell_type": "markdown",
   "metadata": {},
   "source": [
    "## *Observations*:\n",
    "two attributes Smog rating and Co2 ratinh haev missing values, we can deal it, lets see the % of the missing values in each cloumns"
   ]
  },
  {
   "cell_type": "code",
   "execution_count": 184,
   "metadata": {},
   "outputs": [
    {
     "data": {
      "text/plain": [
       "MODEL YEAR                           0.000000\n",
       "MAKE                                 0.000000\n",
       "MODEL # = high output engine         0.000000\n",
       "VEHICLE CLASS                        0.000000\n",
       "ENGINE SIZE (L)                      0.000000\n",
       "CYLINDERS                            0.000000\n",
       "TRANSMISSION                         0.000000\n",
       "FUEL TYPE                            0.000000\n",
       "FUEL CONSUMPTION CITY (L/100 km)     0.000000\n",
       "FUEL CONSUMPTION HWY (L/100 km)      0.000000\n",
       "FUEL CONSUMPTION COMB (L/100 km)     0.000000\n",
       "FUEL CONSUMPTION COMB (mpg)          0.000000\n",
       "CO2 EMISSIONS (g/km)                 0.000000\n",
       "CO2 RATING                          70.285544\n",
       "SMOG RATING                         74.412552\n",
       "dtype: float64"
      ]
     },
     "execution_count": 184,
     "metadata": {},
     "output_type": "execute_result"
    }
   ],
   "source": [
    "df.isnull().sum() / df.shape[0] * 100"
   ]
  },
  {
   "attachments": {},
   "cell_type": "markdown",
   "metadata": {},
   "source": [
    "## *Observations*:\n",
    "The C02 Rating containg  72.5 % missing values and Smog Rating containing 76.75 % missing values"
   ]
  },
  {
   "attachments": {},
   "cell_type": "markdown",
   "metadata": {},
   "source": [
    "## Data cleaning - Handling of missing data and nan Values"
   ]
  },
  {
   "cell_type": "code",
   "execution_count": 185,
   "metadata": {},
   "outputs": [
    {
     "data": {
      "text/html": [
       "<div>\n",
       "<style scoped>\n",
       "    .dataframe tbody tr th:only-of-type {\n",
       "        vertical-align: middle;\n",
       "    }\n",
       "\n",
       "    .dataframe tbody tr th {\n",
       "        vertical-align: top;\n",
       "    }\n",
       "\n",
       "    .dataframe thead th {\n",
       "        text-align: right;\n",
       "    }\n",
       "</style>\n",
       "<table border=\"1\" class=\"dataframe\">\n",
       "  <thead>\n",
       "    <tr style=\"text-align: right;\">\n",
       "      <th></th>\n",
       "      <th>MODEL YEAR</th>\n",
       "      <th>MAKE</th>\n",
       "      <th>MODEL # = high output engine</th>\n",
       "      <th>VEHICLE CLASS</th>\n",
       "      <th>ENGINE SIZE (L)</th>\n",
       "      <th>CYLINDERS</th>\n",
       "      <th>TRANSMISSION</th>\n",
       "      <th>FUEL TYPE</th>\n",
       "      <th>FUEL CONSUMPTION CITY (L/100 km)</th>\n",
       "      <th>FUEL CONSUMPTION HWY (L/100 km)</th>\n",
       "      <th>FUEL CONSUMPTION COMB (L/100 km)</th>\n",
       "      <th>FUEL CONSUMPTION COMB (mpg)</th>\n",
       "      <th>CO2 EMISSIONS (g/km)</th>\n",
       "      <th>CO2 RATING</th>\n",
       "      <th>SMOG RATING</th>\n",
       "    </tr>\n",
       "  </thead>\n",
       "  <tbody>\n",
       "    <tr>\n",
       "      <th>0</th>\n",
       "      <td>1995</td>\n",
       "      <td>ACURA</td>\n",
       "      <td>INTEGRA</td>\n",
       "      <td>SUBCOMPACT</td>\n",
       "      <td>1.8</td>\n",
       "      <td>4</td>\n",
       "      <td>A4</td>\n",
       "      <td>X</td>\n",
       "      <td>10.2</td>\n",
       "      <td>7.0</td>\n",
       "      <td>8.8</td>\n",
       "      <td>32</td>\n",
       "      <td>202</td>\n",
       "      <td>NaN</td>\n",
       "      <td>NaN</td>\n",
       "    </tr>\n",
       "    <tr>\n",
       "      <th>1</th>\n",
       "      <td>1995</td>\n",
       "      <td>ACURA</td>\n",
       "      <td>INTEGRA</td>\n",
       "      <td>SUBCOMPACT</td>\n",
       "      <td>1.8</td>\n",
       "      <td>4</td>\n",
       "      <td>M5</td>\n",
       "      <td>X</td>\n",
       "      <td>9.6</td>\n",
       "      <td>7.0</td>\n",
       "      <td>8.4</td>\n",
       "      <td>34</td>\n",
       "      <td>193</td>\n",
       "      <td>NaN</td>\n",
       "      <td>NaN</td>\n",
       "    </tr>\n",
       "    <tr>\n",
       "      <th>2</th>\n",
       "      <td>1995</td>\n",
       "      <td>ACURA</td>\n",
       "      <td>INTEGRA GS-R</td>\n",
       "      <td>SUBCOMPACT</td>\n",
       "      <td>1.8</td>\n",
       "      <td>4</td>\n",
       "      <td>M5</td>\n",
       "      <td>Z</td>\n",
       "      <td>9.4</td>\n",
       "      <td>7.0</td>\n",
       "      <td>8.3</td>\n",
       "      <td>34</td>\n",
       "      <td>191</td>\n",
       "      <td>NaN</td>\n",
       "      <td>NaN</td>\n",
       "    </tr>\n",
       "    <tr>\n",
       "      <th>3</th>\n",
       "      <td>1995</td>\n",
       "      <td>ACURA</td>\n",
       "      <td>LEGEND</td>\n",
       "      <td>COMPACT</td>\n",
       "      <td>3.2</td>\n",
       "      <td>6</td>\n",
       "      <td>A4</td>\n",
       "      <td>Z</td>\n",
       "      <td>12.6</td>\n",
       "      <td>8.9</td>\n",
       "      <td>10.9</td>\n",
       "      <td>26</td>\n",
       "      <td>251</td>\n",
       "      <td>NaN</td>\n",
       "      <td>NaN</td>\n",
       "    </tr>\n",
       "    <tr>\n",
       "      <th>4</th>\n",
       "      <td>1995</td>\n",
       "      <td>ACURA</td>\n",
       "      <td>LEGEND COUPE</td>\n",
       "      <td>COMPACT</td>\n",
       "      <td>3.2</td>\n",
       "      <td>6</td>\n",
       "      <td>A4</td>\n",
       "      <td>Z</td>\n",
       "      <td>13.0</td>\n",
       "      <td>9.3</td>\n",
       "      <td>11.3</td>\n",
       "      <td>25</td>\n",
       "      <td>260</td>\n",
       "      <td>NaN</td>\n",
       "      <td>NaN</td>\n",
       "    </tr>\n",
       "  </tbody>\n",
       "</table>\n",
       "</div>"
      ],
      "text/plain": [
       "   MODEL YEAR   MAKE MODEL # = high output engine VEHICLE CLASS  \\\n",
       "0        1995  ACURA                      INTEGRA    SUBCOMPACT   \n",
       "1        1995  ACURA                      INTEGRA    SUBCOMPACT   \n",
       "2        1995  ACURA                 INTEGRA GS-R    SUBCOMPACT   \n",
       "3        1995  ACURA                       LEGEND       COMPACT   \n",
       "4        1995  ACURA                 LEGEND COUPE       COMPACT   \n",
       "\n",
       "   ENGINE SIZE (L)  CYLINDERS TRANSMISSION FUEL TYPE  \\\n",
       "0              1.8          4           A4         X   \n",
       "1              1.8          4           M5         X   \n",
       "2              1.8          4           M5         Z   \n",
       "3              3.2          6           A4         Z   \n",
       "4              3.2          6           A4         Z   \n",
       "\n",
       "   FUEL CONSUMPTION CITY (L/100 km)  FUEL CONSUMPTION HWY (L/100 km)  \\\n",
       "0                              10.2                              7.0   \n",
       "1                               9.6                              7.0   \n",
       "2                               9.4                              7.0   \n",
       "3                              12.6                              8.9   \n",
       "4                              13.0                              9.3   \n",
       "\n",
       "   FUEL CONSUMPTION COMB (L/100 km)  FUEL CONSUMPTION COMB (mpg)  \\\n",
       "0                               8.8                           32   \n",
       "1                               8.4                           34   \n",
       "2                               8.3                           34   \n",
       "3                              10.9                           26   \n",
       "4                              11.3                           25   \n",
       "\n",
       "   CO2 EMISSIONS (g/km)  CO2 RATING  SMOG RATING  \n",
       "0                   202         NaN          NaN  \n",
       "1                   193         NaN          NaN  \n",
       "2                   191         NaN          NaN  \n",
       "3                   251         NaN          NaN  \n",
       "4                   260         NaN          NaN  "
      ]
     },
     "execution_count": 185,
     "metadata": {},
     "output_type": "execute_result"
    }
   ],
   "source": [
    "df.head()"
   ]
  },
  {
   "cell_type": "code",
   "execution_count": 186,
   "metadata": {},
   "outputs": [],
   "source": [
    "#Droping Unnecessary columns\n",
    "df.drop(['MODEL # = high output engine', 'CO2 RATING', 'SMOG RATING',\n",
    "          'MAKE','FUEL CONSUMPTION CITY (L/100 km)','FUEL CONSUMPTION HWY (L/100 km)',\n",
    "           'FUEL CONSUMPTION COMB (mpg)', ], axis=1, inplace=True)"
   ]
  },
  {
   "attachments": {},
   "cell_type": "markdown",
   "metadata": {},
   "source": [
    "#### Understanding th every column\n",
    "\n",
    "\n",
    "1. Model Year -> Vehicle Manufacture Year (1995 to 2022)\n",
    "2. Make -> It shows which vehicles are belongs to which Company Brands\n",
    "\n"
   ]
  },
  {
   "cell_type": "code",
   "execution_count": 187,
   "metadata": {},
   "outputs": [
    {
     "data": {
      "text/html": [
       "<div>\n",
       "<style scoped>\n",
       "    .dataframe tbody tr th:only-of-type {\n",
       "        vertical-align: middle;\n",
       "    }\n",
       "\n",
       "    .dataframe tbody tr th {\n",
       "        vertical-align: top;\n",
       "    }\n",
       "\n",
       "    .dataframe thead th {\n",
       "        text-align: right;\n",
       "    }\n",
       "</style>\n",
       "<table border=\"1\" class=\"dataframe\">\n",
       "  <thead>\n",
       "    <tr style=\"text-align: right;\">\n",
       "      <th></th>\n",
       "      <th>MODEL YEAR</th>\n",
       "      <th>VEHICLE CLASS</th>\n",
       "      <th>ENGINE SIZE (L)</th>\n",
       "      <th>CYLINDERS</th>\n",
       "      <th>TRANSMISSION</th>\n",
       "      <th>FUEL TYPE</th>\n",
       "      <th>FUEL CONSUMPTION COMB (L/100 km)</th>\n",
       "      <th>CO2 EMISSIONS (g/km)</th>\n",
       "    </tr>\n",
       "  </thead>\n",
       "  <tbody>\n",
       "    <tr>\n",
       "      <th>0</th>\n",
       "      <td>1995</td>\n",
       "      <td>SUBCOMPACT</td>\n",
       "      <td>1.8</td>\n",
       "      <td>4</td>\n",
       "      <td>A4</td>\n",
       "      <td>X</td>\n",
       "      <td>8.8</td>\n",
       "      <td>202</td>\n",
       "    </tr>\n",
       "    <tr>\n",
       "      <th>1</th>\n",
       "      <td>1995</td>\n",
       "      <td>SUBCOMPACT</td>\n",
       "      <td>1.8</td>\n",
       "      <td>4</td>\n",
       "      <td>M5</td>\n",
       "      <td>X</td>\n",
       "      <td>8.4</td>\n",
       "      <td>193</td>\n",
       "    </tr>\n",
       "    <tr>\n",
       "      <th>2</th>\n",
       "      <td>1995</td>\n",
       "      <td>SUBCOMPACT</td>\n",
       "      <td>1.8</td>\n",
       "      <td>4</td>\n",
       "      <td>M5</td>\n",
       "      <td>Z</td>\n",
       "      <td>8.3</td>\n",
       "      <td>191</td>\n",
       "    </tr>\n",
       "    <tr>\n",
       "      <th>3</th>\n",
       "      <td>1995</td>\n",
       "      <td>COMPACT</td>\n",
       "      <td>3.2</td>\n",
       "      <td>6</td>\n",
       "      <td>A4</td>\n",
       "      <td>Z</td>\n",
       "      <td>10.9</td>\n",
       "      <td>251</td>\n",
       "    </tr>\n",
       "    <tr>\n",
       "      <th>4</th>\n",
       "      <td>1995</td>\n",
       "      <td>COMPACT</td>\n",
       "      <td>3.2</td>\n",
       "      <td>6</td>\n",
       "      <td>A4</td>\n",
       "      <td>Z</td>\n",
       "      <td>11.3</td>\n",
       "      <td>260</td>\n",
       "    </tr>\n",
       "  </tbody>\n",
       "</table>\n",
       "</div>"
      ],
      "text/plain": [
       "   MODEL YEAR VEHICLE CLASS  ENGINE SIZE (L)  CYLINDERS TRANSMISSION  \\\n",
       "0        1995    SUBCOMPACT              1.8          4           A4   \n",
       "1        1995    SUBCOMPACT              1.8          4           M5   \n",
       "2        1995    SUBCOMPACT              1.8          4           M5   \n",
       "3        1995       COMPACT              3.2          6           A4   \n",
       "4        1995       COMPACT              3.2          6           A4   \n",
       "\n",
       "  FUEL TYPE  FUEL CONSUMPTION COMB (L/100 km)  CO2 EMISSIONS (g/km)  \n",
       "0         X                               8.8                   202  \n",
       "1         X                               8.4                   193  \n",
       "2         Z                               8.3                   191  \n",
       "3         Z                              10.9                   251  \n",
       "4         Z                              11.3                   260  "
      ]
     },
     "execution_count": 187,
     "metadata": {},
     "output_type": "execute_result"
    }
   ],
   "source": [
    "df.head()"
   ]
  },
  {
   "attachments": {},
   "cell_type": "markdown",
   "metadata": {},
   "source": [
    "### Feature Engineering\n"
   ]
  },
  {
   "cell_type": "code",
   "execution_count": 188,
   "metadata": {},
   "outputs": [
    {
     "data": {
      "text/plain": [
       "array(['SUBCOMPACT', 'COMPACT', 'TWO-SEATER', 'STATION WAGON - SMALL',\n",
       "       'MINICOMPACT', 'MID-SIZE', 'FULL-SIZE', 'STATION WAGON - MID-SIZE',\n",
       "       'PICKUP TRUCK - STANDARD', 'PICKUP TRUCK - SMALL', 'VAN - CARGO',\n",
       "       'VAN - PASSENGER', 'MINIVAN', 'SUV', 'SUV - STANDARD',\n",
       "       'SPECIAL PURPOSE VEHICLE', 'SUV - SMALL', 'Compact', 'SUV: Small',\n",
       "       'Two-seater', 'Mid-size', 'Minicompact', 'Subcompact',\n",
       "       'Station wagon: Small', 'Full-size', 'SUV: Standard',\n",
       "       'Special purpose vehicle', 'Pickup truck: Small',\n",
       "       'Pickup truck: Standard', 'Minivan', 'Van: Passenger',\n",
       "       'Station wagon: Mid-size'], dtype=object)"
      ]
     },
     "execution_count": 188,
     "metadata": {},
     "output_type": "execute_result"
    }
   ],
   "source": [
    "df['VEHICLE CLASS'].unique()"
   ]
  },
  {
   "cell_type": "code",
   "execution_count": 189,
   "metadata": {},
   "outputs": [],
   "source": [
    "# Convert all text to lowercase\n",
    "df['VEHICLE CLASS'] = df['VEHICLE CLASS'].str.lower()\n",
    "# Replace colons with hyphens\n",
    "df['VEHICLE CLASS'] = df['VEHICLE CLASS'].str.replace(':', '-')\n",
    "df['VEHICLE CLASS'] = df['VEHICLE CLASS']\n",
    "# Group similar vehicle classes together\n",
    "df['VEHICLE CLASS'] = df['VEHICLE CLASS'].replace({\n",
    "    'subcompact': 'subcompact',\n",
    "    'compact': 'compact',\n",
    "    'minicompact': 'minicompact',\n",
    "    'mid-size': 'mid-size',\n",
    "    'full-size': 'full-size',\n",
    "    'two-seater': 'two-seater',\n",
    "    'station wagon - small': 'station wagon',\n",
    "    'station wagon - mid-size': 'station wagon',\n",
    "    'pickup truck - standard': 'pickup truck',\n",
    "    'pickup truck - small': 'pickup truck',\n",
    "    'van - cargo': 'van',\n",
    "    'van - passenger': 'van',\n",
    "    'minivan': 'van',\n",
    "    'suv': 'suv',\n",
    "    'suv - standard': 'suv',\n",
    "    'suv - small': 'suv',\n",
    "    'special purpose vehicle': 'other'\n",
    "})"
   ]
  },
  {
   "cell_type": "code",
   "execution_count": 190,
   "metadata": {},
   "outputs": [
    {
     "data": {
      "text/plain": [
       "array(['subcompact', 'compact', 'two-seater', 'station wagon',\n",
       "       'minicompact', 'mid-size', 'full-size', 'pickup truck', 'van',\n",
       "       'suv', 'other', 'suv- small', 'station wagon- small',\n",
       "       'suv- standard', 'pickup truck- small', 'pickup truck- standard',\n",
       "       'van- passenger', 'station wagon- mid-size'], dtype=object)"
      ]
     },
     "execution_count": 190,
     "metadata": {},
     "output_type": "execute_result"
    }
   ],
   "source": [
    "df['VEHICLE CLASS'].unique()"
   ]
  },
  {
   "cell_type": "code",
   "execution_count": 191,
   "metadata": {},
   "outputs": [],
   "source": [
    "df['VEHICLE CLASS'] = df['VEHICLE CLASS'].replace({\n",
    "   \n",
    "    'station wagon- small': 'station wagon',\n",
    "    'station wagon- mid-size': 'station wagon',\n",
    "    'pickup truck- standard': 'pickup truck',\n",
    "    'pickup truck- small': 'pickup truck',\n",
    "    'van - cargo': 'van',\n",
    "    'van- passenger': 'van',\n",
    "    'minivan': 'van',\n",
    "    'suv- small': 'suv',\n",
    "    'suv- standard': 'suv',\n",
    "    'suv - small': 'suv',\n",
    "    'special purpose vehicle': 'other'\n",
    "})"
   ]
  },
  {
   "cell_type": "code",
   "execution_count": 192,
   "metadata": {},
   "outputs": [
    {
     "data": {
      "text/plain": [
       "array(['subcompact', 'compact', 'two-seater', 'station wagon',\n",
       "       'minicompact', 'mid-size', 'full-size', 'pickup truck', 'van',\n",
       "       'suv', 'other'], dtype=object)"
      ]
     },
     "execution_count": 192,
     "metadata": {},
     "output_type": "execute_result"
    }
   ],
   "source": [
    "df['VEHICLE CLASS'].unique()"
   ]
  },
  {
   "cell_type": "code",
   "execution_count": 193,
   "metadata": {},
   "outputs": [
    {
     "data": {
      "text/plain": [
       "Index(['MODEL YEAR', 'VEHICLE CLASS', 'ENGINE SIZE (L)', 'CYLINDERS',\n",
       "       'TRANSMISSION', 'FUEL TYPE', 'FUEL CONSUMPTION COMB (L/100 km)',\n",
       "       'CO2 EMISSIONS (g/km)'],\n",
       "      dtype='object')"
      ]
     },
     "execution_count": 193,
     "metadata": {},
     "output_type": "execute_result"
    }
   ],
   "source": [
    "df.columns"
   ]
  },
  {
   "cell_type": "code",
   "execution_count": 194,
   "metadata": {},
   "outputs": [
    {
     "name": "stdout",
     "output_type": "stream",
     "text": [
      "<class 'pandas.core.frame.DataFrame'>\n",
      "RangeIndex: 26896 entries, 0 to 26895\n",
      "Data columns (total 8 columns):\n",
      " #   Column                            Non-Null Count  Dtype  \n",
      "---  ------                            --------------  -----  \n",
      " 0   MODEL YEAR                        26896 non-null  int64  \n",
      " 1   VEHICLE CLASS                     26896 non-null  object \n",
      " 2   ENGINE SIZE (L)                   26896 non-null  float64\n",
      " 3   CYLINDERS                         26896 non-null  int64  \n",
      " 4   TRANSMISSION                      26896 non-null  object \n",
      " 5   FUEL TYPE                         26896 non-null  object \n",
      " 6   FUEL CONSUMPTION COMB (L/100 km)  26896 non-null  float64\n",
      " 7   CO2 EMISSIONS (g/km)              26896 non-null  int64  \n",
      "dtypes: float64(2), int64(3), object(3)\n",
      "memory usage: 1.6+ MB\n"
     ]
    }
   ],
   "source": [
    "df.info()"
   ]
  },
  {
   "cell_type": "code",
   "execution_count": 195,
   "metadata": {},
   "outputs": [
    {
     "data": {
      "text/plain": [
       "array(['X', 'Z', 'D', 'N', 'E'], dtype=object)"
      ]
     },
     "execution_count": 195,
     "metadata": {},
     "output_type": "execute_result"
    }
   ],
   "source": [
    "df['FUEL TYPE'].unique()"
   ]
  },
  {
   "cell_type": "code",
   "execution_count": 196,
   "metadata": {},
   "outputs": [],
   "source": [
    "# Renaming fuel types for better understanding\n",
    "\n",
    "df['FUEL TYPE']= np.where(df['FUEL TYPE']=='X','Regular gasoline',df['FUEL TYPE'])\n",
    "df['FUEL TYPE']= np.where(df['FUEL TYPE']=='Z','Premium gasoline',df['FUEL TYPE'])\n",
    "df['FUEL TYPE']= np.where(df['FUEL TYPE']=='E','Ethanol',df['FUEL TYPE'])\n",
    "df['FUEL TYPE']= np.where(df['FUEL TYPE']=='D','Diesel',df['FUEL TYPE'])\n",
    "df['FUEL TYPE']= np.where(df['FUEL TYPE']=='N','Natural gas',df['FUEL TYPE'])"
   ]
  },
  {
   "cell_type": "code",
   "execution_count": 197,
   "metadata": {},
   "outputs": [
    {
     "name": "stdout",
     "output_type": "stream",
     "text": [
      "['Regular gasoline' 'Premium gasoline' 'Diesel' 'Natural gas' 'Ethanol']\n"
     ]
    }
   ],
   "source": [
    "print(df['FUEL TYPE'].unique())"
   ]
  },
  {
   "cell_type": "code",
   "execution_count": 199,
   "metadata": {},
   "outputs": [
    {
     "data": {
      "text/plain": [
       "array(['A4', 'M5', 'M6', 'A5', 'A3', 'M4', 'AS4', 'AS6', 'AS5', 'AV',\n",
       "       'A6', 'AM6', 'A7', 'AM7', 'AS7', 'AS8', 'A8', 'M7', 'AV7', 'AV8',\n",
       "       'AV6', 'AM5', 'A9', 'AS9', 'AM8', 'AM9', 'AS10', 'A10', 'AV10',\n",
       "       'AV1'], dtype=object)"
      ]
     },
     "execution_count": 199,
     "metadata": {},
     "output_type": "execute_result"
    }
   ],
   "source": [
    "df['TRANSMISSION'].unique()"
   ]
  },
  {
   "cell_type": "code",
   "execution_count": 200,
   "metadata": {},
   "outputs": [],
   "source": [
    "# Putting different transmission sub-catagories into their respective catagories\n",
    "\n",
    "df['TRANSMISSION'] = np.where(df['TRANSMISSION'].isin(['A3','A4','A5','A6','A7','A8','A9','A10']),'Automatic',df['TRANSMISSION'])\n",
    "df['TRANSMISSION'] = np.where(df['TRANSMISSION'].isin(['AS4','AS5','AS6','AS7','AS8','AS9','AS10']),'Automatic of Selective type',df['TRANSMISSION'])\n",
    "df['TRANSMISSION'] = np.where(df['TRANSMISSION'].isin(['AM5','AM6','AM7','AM8','AM9']),'Automated Manual',df['TRANSMISSION'])\n",
    "df['TRANSMISSION'] = np.where(df['TRANSMISSION'].isin(['AV','AV1','AV6','AV7','AV8','AV10']),'CVT',df['TRANSMISSION'])\n",
    "df['TRANSMISSION'] = np.where(df['TRANSMISSION'].isin(['M4','M5','M6','M7']),'Manual',df['TRANSMISSION'])\n"
   ]
  },
  {
   "cell_type": "code",
   "execution_count": 201,
   "metadata": {},
   "outputs": [
    {
     "name": "stdout",
     "output_type": "stream",
     "text": [
      "['Automatic' 'Manual' 'Automatic of Selective type' 'CVT'\n",
      " 'Automated Manual']\n"
     ]
    }
   ],
   "source": [
    "print(df['TRANSMISSION'].unique())"
   ]
  },
  {
   "cell_type": "code",
   "execution_count": 202,
   "metadata": {},
   "outputs": [
    {
     "data": {
      "text/plain": [
       "MODEL YEAR                          0\n",
       "VEHICLE CLASS                       0\n",
       "ENGINE SIZE (L)                     0\n",
       "CYLINDERS                           0\n",
       "TRANSMISSION                        0\n",
       "FUEL TYPE                           0\n",
       "FUEL CONSUMPTION COMB (L/100 km)    0\n",
       "CO2 EMISSIONS (g/km)                0\n",
       "dtype: int64"
      ]
     },
     "execution_count": 202,
     "metadata": {},
     "output_type": "execute_result"
    }
   ],
   "source": [
    "# Checking for total null values if any\n",
    "\n",
    "df.isnull().sum()"
   ]
  },
  {
   "cell_type": "code",
   "execution_count": 203,
   "metadata": {},
   "outputs": [
    {
     "data": {
      "text/plain": [
       "array([ 4,  6,  5,  8, 12, 10,  3,  2, 16], dtype=int64)"
      ]
     },
     "execution_count": 203,
     "metadata": {},
     "output_type": "execute_result"
    }
   ],
   "source": [
    "df['CYLINDERS'].unique()"
   ]
  },
  {
   "cell_type": "code",
   "execution_count": 204,
   "metadata": {},
   "outputs": [
    {
     "data": {
      "text/plain": [
       "array([1.8, 3.2, 3. , 2.8, 2.2, 6.7, 2. , 2.5, 4. , 5.4, 3.1, 3.8, 5.7,\n",
       "       2.3, 4.6, 4.9, 3.4, 4.3, 3.3, 3.5, 1.5, 8. , 2.4, 5.5, 1.3, 1.9,\n",
       "       5. , 1. , 2.7, 1.6, 4.5, 6. , 4.2, 3.6, 2.9, 6.5, 3.9, 5.2, 5.9,\n",
       "       5.8, 2.6, 1.2, 4.4, 4.1, 4.8, 5.3, 4.7, 1.7, 3.7, 8.3, 5.6, 6.1,\n",
       "       0.8, 7. , 6.2, 6.8, 8.4, 6.6, 1.4, 6.4, 6.3, 2.1, 0.9])"
      ]
     },
     "execution_count": 204,
     "metadata": {},
     "output_type": "execute_result"
    }
   ],
   "source": [
    "df['ENGINE SIZE (L)'].unique()"
   ]
  },
  {
   "cell_type": "code",
   "execution_count": 205,
   "metadata": {},
   "outputs": [
    {
     "data": {
      "text/html": [
       "<div>\n",
       "<style scoped>\n",
       "    .dataframe tbody tr th:only-of-type {\n",
       "        vertical-align: middle;\n",
       "    }\n",
       "\n",
       "    .dataframe tbody tr th {\n",
       "        vertical-align: top;\n",
       "    }\n",
       "\n",
       "    .dataframe thead th {\n",
       "        text-align: right;\n",
       "    }\n",
       "</style>\n",
       "<table border=\"1\" class=\"dataframe\">\n",
       "  <thead>\n",
       "    <tr style=\"text-align: right;\">\n",
       "      <th></th>\n",
       "      <th>count</th>\n",
       "      <th>mean</th>\n",
       "      <th>std</th>\n",
       "      <th>min</th>\n",
       "      <th>25%</th>\n",
       "      <th>50%</th>\n",
       "      <th>75%</th>\n",
       "      <th>max</th>\n",
       "    </tr>\n",
       "  </thead>\n",
       "  <tbody>\n",
       "    <tr>\n",
       "      <th>MODEL YEAR</th>\n",
       "      <td>26896.0</td>\n",
       "      <td>2009.985797</td>\n",
       "      <td>7.949788</td>\n",
       "      <td>1995.0</td>\n",
       "      <td>2004.0</td>\n",
       "      <td>2010.0</td>\n",
       "      <td>2017.0</td>\n",
       "      <td>2023.0</td>\n",
       "    </tr>\n",
       "    <tr>\n",
       "      <th>ENGINE SIZE (L)</th>\n",
       "      <td>26896.0</td>\n",
       "      <td>3.348903</td>\n",
       "      <td>1.342920</td>\n",
       "      <td>0.8</td>\n",
       "      <td>2.3</td>\n",
       "      <td>3.0</td>\n",
       "      <td>4.2</td>\n",
       "      <td>8.4</td>\n",
       "    </tr>\n",
       "    <tr>\n",
       "      <th>CYLINDERS</th>\n",
       "      <td>26896.0</td>\n",
       "      <td>5.837039</td>\n",
       "      <td>1.802219</td>\n",
       "      <td>2.0</td>\n",
       "      <td>4.0</td>\n",
       "      <td>6.0</td>\n",
       "      <td>8.0</td>\n",
       "      <td>16.0</td>\n",
       "    </tr>\n",
       "    <tr>\n",
       "      <th>FUEL CONSUMPTION COMB (L/100 km)</th>\n",
       "      <td>26896.0</td>\n",
       "      <td>11.074022</td>\n",
       "      <td>2.891434</td>\n",
       "      <td>3.6</td>\n",
       "      <td>9.1</td>\n",
       "      <td>10.6</td>\n",
       "      <td>12.8</td>\n",
       "      <td>26.1</td>\n",
       "    </tr>\n",
       "    <tr>\n",
       "      <th>CO2 EMISSIONS (g/km)</th>\n",
       "      <td>26896.0</td>\n",
       "      <td>251.786883</td>\n",
       "      <td>60.179570</td>\n",
       "      <td>83.0</td>\n",
       "      <td>209.0</td>\n",
       "      <td>244.0</td>\n",
       "      <td>290.0</td>\n",
       "      <td>608.0</td>\n",
       "    </tr>\n",
       "  </tbody>\n",
       "</table>\n",
       "</div>"
      ],
      "text/plain": [
       "                                    count         mean        std     min  \\\n",
       "MODEL YEAR                        26896.0  2009.985797   7.949788  1995.0   \n",
       "ENGINE SIZE (L)                   26896.0     3.348903   1.342920     0.8   \n",
       "CYLINDERS                         26896.0     5.837039   1.802219     2.0   \n",
       "FUEL CONSUMPTION COMB (L/100 km)  26896.0    11.074022   2.891434     3.6   \n",
       "CO2 EMISSIONS (g/km)              26896.0   251.786883  60.179570    83.0   \n",
       "\n",
       "                                     25%     50%     75%     max  \n",
       "MODEL YEAR                        2004.0  2010.0  2017.0  2023.0  \n",
       "ENGINE SIZE (L)                      2.3     3.0     4.2     8.4  \n",
       "CYLINDERS                            4.0     6.0     8.0    16.0  \n",
       "FUEL CONSUMPTION COMB (L/100 km)     9.1    10.6    12.8    26.1  \n",
       "CO2 EMISSIONS (g/km)               209.0   244.0   290.0   608.0  "
      ]
     },
     "execution_count": 205,
     "metadata": {},
     "output_type": "execute_result"
    }
   ],
   "source": [
    "# Insight of different statistical distribution of features and label\n",
    "\n",
    "df.describe().T"
   ]
  },
  {
   "cell_type": "code",
   "execution_count": null,
   "metadata": {},
   "outputs": [
    {
     "data": {
      "text/plain": [
       "26.1"
      ]
     },
     "execution_count": 80,
     "metadata": {},
     "output_type": "execute_result"
    }
   ],
   "source": [
    "df['FUEL C (L/100 km)'].max()"
   ]
  },
  {
   "cell_type": "code",
   "execution_count": null,
   "metadata": {},
   "outputs": [
    {
     "data": {
      "text/plain": [
       "3.6"
      ]
     },
     "execution_count": 81,
     "metadata": {},
     "output_type": "execute_result"
    }
   ],
   "source": [
    "df['FUEL C (L/100 km)'].min()"
   ]
  },
  {
   "cell_type": "code",
   "execution_count": null,
   "metadata": {},
   "outputs": [
    {
     "data": {
      "text/plain": [
       "0    9.9\n",
       "Name: FUEL C (L/100 km), dtype: float64"
      ]
     },
     "execution_count": 82,
     "metadata": {},
     "output_type": "execute_result"
    }
   ],
   "source": [
    "df['FUEL C (L/100 km)'].mode()"
   ]
  },
  {
   "cell_type": "code",
   "execution_count": null,
   "metadata": {},
   "outputs": [
    {
     "data": {
      "text/plain": [
       "MODEL YEAR                         -0.069347\n",
       "CYLINDERS                           0.798140\n",
       "ENGINE SIZE (L)                     0.825638\n",
       "FUEL CONSUMPTION COMB (L/100 km)    0.931993\n",
       "CO2 EMISSIONS (g/km)                1.000000\n",
       "Name: CO2 EMISSIONS (g/km), dtype: float64"
      ]
     },
     "execution_count": 34,
     "metadata": {},
     "output_type": "execute_result"
    }
   ],
   "source": [
    "df.corr()['CO2 EMISSIONS (g/km)'].sort_values()"
   ]
  },
  {
   "cell_type": "code",
   "execution_count": null,
   "metadata": {},
   "outputs": [
    {
     "data": {
      "text/html": [
       "<div>\n",
       "<style scoped>\n",
       "    .dataframe tbody tr th:only-of-type {\n",
       "        vertical-align: middle;\n",
       "    }\n",
       "\n",
       "    .dataframe tbody tr th {\n",
       "        vertical-align: top;\n",
       "    }\n",
       "\n",
       "    .dataframe thead th {\n",
       "        text-align: right;\n",
       "    }\n",
       "</style>\n",
       "<table border=\"1\" class=\"dataframe\">\n",
       "  <thead>\n",
       "    <tr style=\"text-align: right;\">\n",
       "      <th></th>\n",
       "      <th>MODEL YEAR</th>\n",
       "      <th>ENGINE SIZE (L)</th>\n",
       "      <th>CYLINDERS</th>\n",
       "      <th>FUEL CONSUMPTION COMB (L/100 km)</th>\n",
       "      <th>CO2 EMISSIONS (g/km)</th>\n",
       "    </tr>\n",
       "  </thead>\n",
       "  <tbody>\n",
       "    <tr>\n",
       "      <th>MODEL YEAR</th>\n",
       "      <td>1.000000</td>\n",
       "      <td>-0.058736</td>\n",
       "      <td>-0.046856</td>\n",
       "      <td>-0.070199</td>\n",
       "      <td>-0.069347</td>\n",
       "    </tr>\n",
       "    <tr>\n",
       "      <th>ENGINE SIZE (L)</th>\n",
       "      <td>-0.058736</td>\n",
       "      <td>1.000000</td>\n",
       "      <td>0.910168</td>\n",
       "      <td>0.812541</td>\n",
       "      <td>0.825638</td>\n",
       "    </tr>\n",
       "    <tr>\n",
       "      <th>CYLINDERS</th>\n",
       "      <td>-0.046856</td>\n",
       "      <td>0.910168</td>\n",
       "      <td>1.000000</td>\n",
       "      <td>0.774182</td>\n",
       "      <td>0.798140</td>\n",
       "    </tr>\n",
       "    <tr>\n",
       "      <th>FUEL CONSUMPTION COMB (L/100 km)</th>\n",
       "      <td>-0.070199</td>\n",
       "      <td>0.812541</td>\n",
       "      <td>0.774182</td>\n",
       "      <td>1.000000</td>\n",
       "      <td>0.931993</td>\n",
       "    </tr>\n",
       "    <tr>\n",
       "      <th>CO2 EMISSIONS (g/km)</th>\n",
       "      <td>-0.069347</td>\n",
       "      <td>0.825638</td>\n",
       "      <td>0.798140</td>\n",
       "      <td>0.931993</td>\n",
       "      <td>1.000000</td>\n",
       "    </tr>\n",
       "  </tbody>\n",
       "</table>\n",
       "</div>"
      ],
      "text/plain": [
       "                                  MODEL YEAR  ENGINE SIZE (L)  CYLINDERS  \\\n",
       "MODEL YEAR                          1.000000        -0.058736  -0.046856   \n",
       "ENGINE SIZE (L)                    -0.058736         1.000000   0.910168   \n",
       "CYLINDERS                          -0.046856         0.910168   1.000000   \n",
       "FUEL CONSUMPTION COMB (L/100 km)   -0.070199         0.812541   0.774182   \n",
       "CO2 EMISSIONS (g/km)               -0.069347         0.825638   0.798140   \n",
       "\n",
       "                                  FUEL CONSUMPTION COMB (L/100 km)  \\\n",
       "MODEL YEAR                                               -0.070199   \n",
       "ENGINE SIZE (L)                                           0.812541   \n",
       "CYLINDERS                                                 0.774182   \n",
       "FUEL CONSUMPTION COMB (L/100 km)                          1.000000   \n",
       "CO2 EMISSIONS (g/km)                                      0.931993   \n",
       "\n",
       "                                  CO2 EMISSIONS (g/km)  \n",
       "MODEL YEAR                                   -0.069347  \n",
       "ENGINE SIZE (L)                               0.825638  \n",
       "CYLINDERS                                     0.798140  \n",
       "FUEL CONSUMPTION COMB (L/100 km)              0.931993  \n",
       "CO2 EMISSIONS (g/km)                          1.000000  "
      ]
     },
     "execution_count": 35,
     "metadata": {},
     "output_type": "execute_result"
    }
   ],
   "source": [
    "# Correlation between features and label\n",
    "\n",
    "df.corr()"
   ]
  },
  {
   "cell_type": "code",
   "execution_count": null,
   "metadata": {},
   "outputs": [
    {
     "data": {
      "text/plain": [
       "Text(0.5, 1.0, 'Correlation')"
      ]
     },
     "execution_count": 36,
     "metadata": {},
     "output_type": "execute_result"
    },
    {
     "data": {
      "image/png": "[encoded data removed]",
      "text/plain": [
       "<Figure size 800x800 with 2 Axes>"
      ]
     },
     "metadata": {},
     "output_type": "display_data"
    }
   ],
   "source": [
    "# VISUALISATIONS\n",
    "corr = df.corr()\n",
    "plt.rcParams['figure.figsize']=(8,8)\n",
    "sns.heatmap(corr, cmap='coolwarm', linewidth=0.5, fmt='0.2f', annot=True)\n",
    "plt.title('Correlation')"
   ]
  },
  {
   "cell_type": "code",
   "execution_count": 265,
   "metadata": {},
   "outputs": [
    {
     "data": {
      "text/plain": [
       "array([ 4,  6,  5,  8, 12, 10,  3,  2, 16], dtype=int64)"
      ]
     },
     "execution_count": 265,
     "metadata": {},
     "output_type": "execute_result"
    }
   ],
   "source": [
    "df['CYLINDERS'].unique()"
   ]
  },
  {
   "cell_type": "code",
   "execution_count": 269,
   "metadata": {},
   "outputs": [
    {
     "data": {
      "text/plain": [
       "10.6"
      ]
     },
     "execution_count": 269,
     "metadata": {},
     "output_type": "execute_result"
    }
   ],
   "source": [
    "df['FUEL CONSUMPTION COMB (L/100 km)'].median()"
   ]
  },
  {
   "cell_type": "code",
   "execution_count": 270,
   "metadata": {},
   "outputs": [
    {
     "data": {
      "text/plain": [
       "array([1.8, 3.2, 3. , 2.8, 2.2, 6.7, 2. , 2.5, 4. , 5.4, 3.1, 3.8, 5.7,\n",
       "       2.3, 4.6, 4.9, 3.4, 4.3, 3.3, 3.5, 1.5, 8. , 2.4, 5.5, 1.3, 1.9,\n",
       "       5. , 1. , 2.7, 1.6, 4.5, 6. , 4.2, 3.6, 2.9, 6.5, 3.9, 5.2, 5.9,\n",
       "       5.8, 2.6, 1.2, 4.4, 4.1, 4.8, 5.3, 4.7, 1.7, 3.7, 8.3, 5.6, 6.1,\n",
       "       0.8, 7. , 6.2, 6.8, 8.4, 6.6, 1.4, 6.4, 6.3, 2.1, 0.9])"
      ]
     },
     "execution_count": 270,
     "metadata": {},
     "output_type": "execute_result"
    }
   ],
   "source": [
    "df['ENGINE SIZE (L)'].unique()"
   ]
  },
  {
   "cell_type": "code",
   "execution_count": 271,
   "metadata": {},
   "outputs": [
    {
     "data": {
      "text/html": [
       "<div>\n",
       "<style scoped>\n",
       "    .dataframe tbody tr th:only-of-type {\n",
       "        vertical-align: middle;\n",
       "    }\n",
       "\n",
       "    .dataframe tbody tr th {\n",
       "        vertical-align: top;\n",
       "    }\n",
       "\n",
       "    .dataframe thead th {\n",
       "        text-align: right;\n",
       "    }\n",
       "</style>\n",
       "<table border=\"1\" class=\"dataframe\">\n",
       "  <thead>\n",
       "    <tr style=\"text-align: right;\">\n",
       "      <th></th>\n",
       "      <th>MODEL YEAR</th>\n",
       "      <th>VEHICLE CLASS</th>\n",
       "      <th>ENGINE SIZE (L)</th>\n",
       "      <th>CYLINDERS</th>\n",
       "      <th>TRANSMISSION</th>\n",
       "      <th>FUEL TYPE</th>\n",
       "      <th>FUEL CONSUMPTION COMB (L/100 km)</th>\n",
       "      <th>CO2 EMISSIONS (g/km)</th>\n",
       "    </tr>\n",
       "  </thead>\n",
       "  <tbody>\n",
       "    <tr>\n",
       "      <th>0</th>\n",
       "      <td>1995</td>\n",
       "      <td>subcompact</td>\n",
       "      <td>1.8</td>\n",
       "      <td>4</td>\n",
       "      <td>Automatic</td>\n",
       "      <td>Regular gasoline</td>\n",
       "      <td>8.8</td>\n",
       "      <td>202</td>\n",
       "    </tr>\n",
       "    <tr>\n",
       "      <th>1</th>\n",
       "      <td>1995</td>\n",
       "      <td>subcompact</td>\n",
       "      <td>1.8</td>\n",
       "      <td>4</td>\n",
       "      <td>Manual</td>\n",
       "      <td>Regular gasoline</td>\n",
       "      <td>8.4</td>\n",
       "      <td>193</td>\n",
       "    </tr>\n",
       "    <tr>\n",
       "      <th>2</th>\n",
       "      <td>1995</td>\n",
       "      <td>subcompact</td>\n",
       "      <td>1.8</td>\n",
       "      <td>4</td>\n",
       "      <td>Manual</td>\n",
       "      <td>Premium gasoline</td>\n",
       "      <td>8.3</td>\n",
       "      <td>191</td>\n",
       "    </tr>\n",
       "    <tr>\n",
       "      <th>3</th>\n",
       "      <td>1995</td>\n",
       "      <td>compact</td>\n",
       "      <td>3.2</td>\n",
       "      <td>6</td>\n",
       "      <td>Automatic</td>\n",
       "      <td>Premium gasoline</td>\n",
       "      <td>10.9</td>\n",
       "      <td>251</td>\n",
       "    </tr>\n",
       "    <tr>\n",
       "      <th>4</th>\n",
       "      <td>1995</td>\n",
       "      <td>compact</td>\n",
       "      <td>3.2</td>\n",
       "      <td>6</td>\n",
       "      <td>Automatic</td>\n",
       "      <td>Premium gasoline</td>\n",
       "      <td>11.3</td>\n",
       "      <td>260</td>\n",
       "    </tr>\n",
       "  </tbody>\n",
       "</table>\n",
       "</div>"
      ],
      "text/plain": [
       "   MODEL YEAR VEHICLE CLASS  ENGINE SIZE (L)  CYLINDERS TRANSMISSION  \\\n",
       "0        1995    subcompact              1.8          4    Automatic   \n",
       "1        1995    subcompact              1.8          4       Manual   \n",
       "2        1995    subcompact              1.8          4       Manual   \n",
       "3        1995       compact              3.2          6    Automatic   \n",
       "4        1995       compact              3.2          6    Automatic   \n",
       "\n",
       "          FUEL TYPE  FUEL CONSUMPTION COMB (L/100 km)  CO2 EMISSIONS (g/km)  \n",
       "0  Regular gasoline                               8.8                   202  \n",
       "1  Regular gasoline                               8.4                   193  \n",
       "2  Premium gasoline                               8.3                   191  \n",
       "3  Premium gasoline                              10.9                   251  \n",
       "4  Premium gasoline                              11.3                   260  "
      ]
     },
     "execution_count": 271,
     "metadata": {},
     "output_type": "execute_result"
    }
   ],
   "source": [
    "df.head()"
   ]
  },
  {
   "cell_type": "code",
   "execution_count": null,
   "metadata": {},
   "outputs": [
    {
     "data": {
      "text/plain": [
       "array([[<Axes: title={'center': 'MODEL YEAR'}>,\n",
       "        <Axes: title={'center': 'ENGINE SIZE (L)'}>],\n",
       "       [<Axes: title={'center': 'CYLINDERS'}>,\n",
       "        <Axes: title={'center': 'FUEL CONSUMPTION COMB (L/100 km)'}>],\n",
       "       [<Axes: title={'center': 'CO2 EMISSIONS (g/km)'}>, <Axes: >]],\n",
       "      dtype=object)"
      ]
     },
     "execution_count": 37,
     "metadata": {},
     "output_type": "execute_result"
    },
    {
     "data": {
      "image/png": "[encoded data removed]",
      "text/plain": [
       "<Figure size 1000x800 with 6 Axes>"
      ]
     },
     "metadata": {},
     "output_type": "display_data"
    }
   ],
   "source": [
    "# distribution of numerical features\n",
    "# we can seee that the numerical features are little ight skewed.\n",
    "\n",
    "df.hist(figsize=(10,8),bins=50)"
   ]
  },
  {
   "cell_type": "code",
   "execution_count": null,
   "metadata": {},
   "outputs": [],
   "source": [
    "# renaming the columns for better understanding , FUEL CONSUMPTION COMB (L/100 km) to FUEL C (L/100 km)\n",
    "df.rename(columns={'FUEL CONSUMPTION COMB (L/100 km)':'FUEL C (L/100 km)'},inplace=True)\n"
   ]
  },
  {
   "cell_type": "code",
   "execution_count": 275,
   "metadata": {},
   "outputs": [
    {
     "data": {
      "text/html": [
       "<div>\n",
       "<style scoped>\n",
       "    .dataframe tbody tr th:only-of-type {\n",
       "        vertical-align: middle;\n",
       "    }\n",
       "\n",
       "    .dataframe tbody tr th {\n",
       "        vertical-align: top;\n",
       "    }\n",
       "\n",
       "    .dataframe thead th {\n",
       "        text-align: right;\n",
       "    }\n",
       "</style>\n",
       "<table border=\"1\" class=\"dataframe\">\n",
       "  <thead>\n",
       "    <tr style=\"text-align: right;\">\n",
       "      <th></th>\n",
       "      <th>MODEL YEAR</th>\n",
       "      <th>VEHICLE CLASS</th>\n",
       "      <th>ENGINE SIZE (L)</th>\n",
       "      <th>CYLINDERS</th>\n",
       "      <th>TRANSMISSION</th>\n",
       "      <th>FUEL TYPE</th>\n",
       "      <th>FUEL C (L/100 km)</th>\n",
       "    </tr>\n",
       "  </thead>\n",
       "  <tbody>\n",
       "    <tr>\n",
       "      <th>0</th>\n",
       "      <td>1995</td>\n",
       "      <td>7</td>\n",
       "      <td>1.8</td>\n",
       "      <td>4</td>\n",
       "      <td>1</td>\n",
       "      <td>4</td>\n",
       "      <td>8.8</td>\n",
       "    </tr>\n",
       "    <tr>\n",
       "      <th>1</th>\n",
       "      <td>1995</td>\n",
       "      <td>7</td>\n",
       "      <td>1.8</td>\n",
       "      <td>4</td>\n",
       "      <td>4</td>\n",
       "      <td>4</td>\n",
       "      <td>8.4</td>\n",
       "    </tr>\n",
       "    <tr>\n",
       "      <th>2</th>\n",
       "      <td>1995</td>\n",
       "      <td>7</td>\n",
       "      <td>1.8</td>\n",
       "      <td>4</td>\n",
       "      <td>4</td>\n",
       "      <td>3</td>\n",
       "      <td>8.3</td>\n",
       "    </tr>\n",
       "    <tr>\n",
       "      <th>3</th>\n",
       "      <td>1995</td>\n",
       "      <td>0</td>\n",
       "      <td>3.2</td>\n",
       "      <td>6</td>\n",
       "      <td>1</td>\n",
       "      <td>3</td>\n",
       "      <td>10.9</td>\n",
       "    </tr>\n",
       "    <tr>\n",
       "      <th>4</th>\n",
       "      <td>1995</td>\n",
       "      <td>0</td>\n",
       "      <td>3.2</td>\n",
       "      <td>6</td>\n",
       "      <td>1</td>\n",
       "      <td>3</td>\n",
       "      <td>11.3</td>\n",
       "    </tr>\n",
       "    <tr>\n",
       "      <th>...</th>\n",
       "      <td>...</td>\n",
       "      <td>...</td>\n",
       "      <td>...</td>\n",
       "      <td>...</td>\n",
       "      <td>...</td>\n",
       "      <td>...</td>\n",
       "      <td>...</td>\n",
       "    </tr>\n",
       "    <tr>\n",
       "      <th>26891</th>\n",
       "      <td>2023</td>\n",
       "      <td>8</td>\n",
       "      <td>2.0</td>\n",
       "      <td>4</td>\n",
       "      <td>2</td>\n",
       "      <td>3</td>\n",
       "      <td>9.2</td>\n",
       "    </tr>\n",
       "    <tr>\n",
       "      <th>26892</th>\n",
       "      <td>2023</td>\n",
       "      <td>8</td>\n",
       "      <td>2.0</td>\n",
       "      <td>4</td>\n",
       "      <td>2</td>\n",
       "      <td>3</td>\n",
       "      <td>9.4</td>\n",
       "    </tr>\n",
       "    <tr>\n",
       "      <th>26893</th>\n",
       "      <td>2023</td>\n",
       "      <td>8</td>\n",
       "      <td>2.0</td>\n",
       "      <td>4</td>\n",
       "      <td>2</td>\n",
       "      <td>3</td>\n",
       "      <td>10.0</td>\n",
       "    </tr>\n",
       "    <tr>\n",
       "      <th>26894</th>\n",
       "      <td>2023</td>\n",
       "      <td>8</td>\n",
       "      <td>2.0</td>\n",
       "      <td>4</td>\n",
       "      <td>2</td>\n",
       "      <td>3</td>\n",
       "      <td>9.6</td>\n",
       "    </tr>\n",
       "    <tr>\n",
       "      <th>26895</th>\n",
       "      <td>2023</td>\n",
       "      <td>8</td>\n",
       "      <td>2.0</td>\n",
       "      <td>4</td>\n",
       "      <td>2</td>\n",
       "      <td>3</td>\n",
       "      <td>10.6</td>\n",
       "    </tr>\n",
       "  </tbody>\n",
       "</table>\n",
       "<p>26896 rows × 7 columns</p>\n",
       "</div>"
      ],
      "text/plain": [
       "       MODEL YEAR  VEHICLE CLASS  ENGINE SIZE (L)  CYLINDERS  TRANSMISSION  \\\n",
       "0            1995              7              1.8          4             1   \n",
       "1            1995              7              1.8          4             4   \n",
       "2            1995              7              1.8          4             4   \n",
       "3            1995              0              3.2          6             1   \n",
       "4            1995              0              3.2          6             1   \n",
       "...           ...            ...              ...        ...           ...   \n",
       "26891        2023              8              2.0          4             2   \n",
       "26892        2023              8              2.0          4             2   \n",
       "26893        2023              8              2.0          4             2   \n",
       "26894        2023              8              2.0          4             2   \n",
       "26895        2023              8              2.0          4             2   \n",
       "\n",
       "       FUEL TYPE  FUEL C (L/100 km)  \n",
       "0              4                8.8  \n",
       "1              4                8.4  \n",
       "2              3                8.3  \n",
       "3              3               10.9  \n",
       "4              3               11.3  \n",
       "...          ...                ...  \n",
       "26891          3                9.2  \n",
       "26892          3                9.4  \n",
       "26893          3               10.0  \n",
       "26894          3                9.6  \n",
       "26895          3               10.6  \n",
       "\n",
       "[26896 rows x 7 columns]"
      ]
     },
     "execution_count": 275,
     "metadata": {},
     "output_type": "execute_result"
    }
   ],
   "source": [
    "# convert X into dataframe\n",
    "X"
   ]
  },
  {
   "cell_type": "code",
   "execution_count": 276,
   "metadata": {},
   "outputs": [],
   "source": [
    "#convert X into DataFrame\n",
    "cleaned_X = pd.DataFrame(X, columns=X.columns)"
   ]
  },
  {
   "cell_type": "code",
   "execution_count": 279,
   "metadata": {},
   "outputs": [],
   "source": [
    "cleaned_X.head()\n",
    "# save cleaned data into csv file\n",
    "cleaned_X.to_csv('cleaned_data_X.csv', index=False)"
   ]
  },
  {
   "cell_type": "code",
   "execution_count": null,
   "metadata": {},
   "outputs": [
    {
     "data": {
      "text/plain": [
       "array(['subcompact', 'compact', 'two-seater', 'station wagon',\n",
       "       'minicompact', 'mid-size', 'full-size', 'pickup truck', 'van',\n",
       "       'suv', 'other'], dtype=object)"
      ]
     },
     "execution_count": 40,
     "metadata": {},
     "output_type": "execute_result"
    }
   ],
   "source": [
    "# columns unique values\n",
    "df['VEHICLE CLASS'].unique()"
   ]
  },
  {
   "cell_type": "code",
   "execution_count": null,
   "metadata": {},
   "outputs": [
    {
     "name": "stdout",
     "output_type": "stream",
     "text": [
      "suv              6241\n",
      "compact          3757\n",
      "mid-size         3486\n",
      "pickup truck     3483\n",
      "subcompact       2592\n",
      "full-size        1720\n",
      "station wagon    1482\n",
      "van              1472\n",
      "two-seater       1454\n",
      "minicompact      1090\n",
      "other             119\n",
      "Name: VEHICLE CLASS, dtype: int64\n",
      "Regular gasoline    14859\n",
      "Premium gasoline    10481\n",
      "Ethanol              1091\n",
      "Diesel                426\n",
      "Natural gas            39\n",
      "Name: FUEL TYPE, dtype: int64\n",
      "Automatic                      11234\n",
      "Automatic of Selective type     7112\n",
      "Manual                          6090\n",
      "CVT                             1300\n",
      "Automated Manual                1160\n",
      "Name: TRANSMISSION, dtype: int64\n"
     ]
    }
   ],
   "source": [
    "print(df['VEHICLE CLASS'].value_counts())\n",
    "print(df[\"FUEL TYPE\"].value_counts())\n",
    "print(df[\"TRANSMISSION\"].value_counts())\n"
   ]
  },
  {
   "cell_type": "code",
   "execution_count": null,
   "metadata": {},
   "outputs": [],
   "source": [
    "#Label encoding\n",
    "from sklearn.preprocessing import LabelEncoder\n",
    "lb = LabelEncoder()\n",
    "df['VEHICLE CLASS'] = lb.fit_transform(df['VEHICLE CLASS'])\n",
    "df['TRANSMISSION'] = lb.fit_transform(df['TRANSMISSION'])\n",
    "df['FUEL TYPE'] = lb.fit_transform(df['FUEL TYPE'])"
   ]
  },
  {
   "cell_type": "code",
   "execution_count": null,
   "metadata": {},
   "outputs": [
    {
     "name": "stdout",
     "output_type": "stream",
     "text": [
      "8     6241\n",
      "0     3757\n",
      "2     3486\n",
      "5     3483\n",
      "7     2592\n",
      "1     1720\n",
      "6     1482\n",
      "10    1472\n",
      "9     1454\n",
      "3     1090\n",
      "4      119\n",
      "Name: VEHICLE CLASS, dtype: int64\n",
      "4    14859\n",
      "3    10481\n",
      "1     1091\n",
      "0      426\n",
      "2       39\n",
      "Name: FUEL TYPE, dtype: int64\n",
      "1    11234\n",
      "2     7112\n",
      "4     6090\n",
      "3     1300\n",
      "0     1160\n",
      "Name: TRANSMISSION, dtype: int64\n"
     ]
    }
   ],
   "source": [
    "print(df['VEHICLE CLASS'].value_counts())\n",
    "print(df[\"FUEL TYPE\"].value_counts())\n",
    "print(df[\"TRANSMISSION\"].value_counts())\n"
   ]
  },
  {
   "cell_type": "code",
   "execution_count": null,
   "metadata": {},
   "outputs": [],
   "source": [
    "X = df.drop('CO2 EMISSIONS (g/km)', axis=1)  # Drop the target variable column from X\n",
    "y = df['CO2 EMISSIONS (g/km)']  # Keep only the target variable column in y"
   ]
  },
  {
   "cell_type": "code",
   "execution_count": null,
   "metadata": {},
   "outputs": [
    {
     "data": {
      "text/html": [
       "<div>\n",
       "<style scoped>\n",
       "    .dataframe tbody tr th:only-of-type {\n",
       "        vertical-align: middle;\n",
       "    }\n",
       "\n",
       "    .dataframe tbody tr th {\n",
       "        vertical-align: top;\n",
       "    }\n",
       "\n",
       "    .dataframe thead th {\n",
       "        text-align: right;\n",
       "    }\n",
       "</style>\n",
       "<table border=\"1\" class=\"dataframe\">\n",
       "  <thead>\n",
       "    <tr style=\"text-align: right;\">\n",
       "      <th></th>\n",
       "      <th>MODEL YEAR</th>\n",
       "      <th>VEHICLE CLASS</th>\n",
       "      <th>ENGINE SIZE (L)</th>\n",
       "      <th>CYLINDERS</th>\n",
       "      <th>TRANSMISSION</th>\n",
       "      <th>FUEL TYPE</th>\n",
       "      <th>FUEL C (L/100 km)</th>\n",
       "    </tr>\n",
       "  </thead>\n",
       "  <tbody>\n",
       "    <tr>\n",
       "      <th>0</th>\n",
       "      <td>1995</td>\n",
       "      <td>7</td>\n",
       "      <td>1.8</td>\n",
       "      <td>4</td>\n",
       "      <td>1</td>\n",
       "      <td>4</td>\n",
       "      <td>8.8</td>\n",
       "    </tr>\n",
       "    <tr>\n",
       "      <th>1</th>\n",
       "      <td>1995</td>\n",
       "      <td>7</td>\n",
       "      <td>1.8</td>\n",
       "      <td>4</td>\n",
       "      <td>4</td>\n",
       "      <td>4</td>\n",
       "      <td>8.4</td>\n",
       "    </tr>\n",
       "    <tr>\n",
       "      <th>2</th>\n",
       "      <td>1995</td>\n",
       "      <td>7</td>\n",
       "      <td>1.8</td>\n",
       "      <td>4</td>\n",
       "      <td>4</td>\n",
       "      <td>3</td>\n",
       "      <td>8.3</td>\n",
       "    </tr>\n",
       "    <tr>\n",
       "      <th>3</th>\n",
       "      <td>1995</td>\n",
       "      <td>0</td>\n",
       "      <td>3.2</td>\n",
       "      <td>6</td>\n",
       "      <td>1</td>\n",
       "      <td>3</td>\n",
       "      <td>10.9</td>\n",
       "    </tr>\n",
       "    <tr>\n",
       "      <th>4</th>\n",
       "      <td>1995</td>\n",
       "      <td>0</td>\n",
       "      <td>3.2</td>\n",
       "      <td>6</td>\n",
       "      <td>1</td>\n",
       "      <td>3</td>\n",
       "      <td>11.3</td>\n",
       "    </tr>\n",
       "  </tbody>\n",
       "</table>\n",
       "</div>"
      ],
      "text/plain": [
       "   MODEL YEAR  VEHICLE CLASS  ENGINE SIZE (L)  CYLINDERS  TRANSMISSION  \\\n",
       "0        1995              7              1.8          4             1   \n",
       "1        1995              7              1.8          4             4   \n",
       "2        1995              7              1.8          4             4   \n",
       "3        1995              0              3.2          6             1   \n",
       "4        1995              0              3.2          6             1   \n",
       "\n",
       "   FUEL TYPE  FUEL C (L/100 km)  \n",
       "0          4                8.8  \n",
       "1          4                8.4  \n",
       "2          3                8.3  \n",
       "3          3               10.9  \n",
       "4          3               11.3  "
      ]
     },
     "execution_count": 45,
     "metadata": {},
     "output_type": "execute_result"
    }
   ],
   "source": [
    "X.head()"
   ]
  },
  {
   "cell_type": "code",
   "execution_count": null,
   "metadata": {},
   "outputs": [
    {
     "data": {
      "text/plain": [
       "0    202\n",
       "1    193\n",
       "2    191\n",
       "3    251\n",
       "4    260\n",
       "Name: CO2 EMISSIONS (g/km), dtype: int64"
      ]
     },
     "execution_count": 47,
     "metadata": {},
     "output_type": "execute_result"
    }
   ],
   "source": [
    "y.head()"
   ]
  },
  {
   "cell_type": "code",
   "execution_count": null,
   "metadata": {},
   "outputs": [
    {
     "data": {
      "text/html": [
       "<div>\n",
       "<style scoped>\n",
       "    .dataframe tbody tr th:only-of-type {\n",
       "        vertical-align: middle;\n",
       "    }\n",
       "\n",
       "    .dataframe tbody tr th {\n",
       "        vertical-align: top;\n",
       "    }\n",
       "\n",
       "    .dataframe thead th {\n",
       "        text-align: right;\n",
       "    }\n",
       "</style>\n",
       "<table border=\"1\" class=\"dataframe\">\n",
       "  <thead>\n",
       "    <tr style=\"text-align: right;\">\n",
       "      <th></th>\n",
       "      <th>MODEL YEAR</th>\n",
       "      <th>VEHICLE CLASS</th>\n",
       "      <th>ENGINE SIZE (L)</th>\n",
       "      <th>CYLINDERS</th>\n",
       "      <th>TRANSMISSION</th>\n",
       "      <th>FUEL TYPE</th>\n",
       "      <th>FUEL C (L/100 km)</th>\n",
       "    </tr>\n",
       "  </thead>\n",
       "  <tbody>\n",
       "    <tr>\n",
       "      <th>0</th>\n",
       "      <td>1995</td>\n",
       "      <td>7</td>\n",
       "      <td>1.8</td>\n",
       "      <td>4</td>\n",
       "      <td>1</td>\n",
       "      <td>4</td>\n",
       "      <td>8.8</td>\n",
       "    </tr>\n",
       "    <tr>\n",
       "      <th>1</th>\n",
       "      <td>1995</td>\n",
       "      <td>7</td>\n",
       "      <td>1.8</td>\n",
       "      <td>4</td>\n",
       "      <td>4</td>\n",
       "      <td>4</td>\n",
       "      <td>8.4</td>\n",
       "    </tr>\n",
       "    <tr>\n",
       "      <th>2</th>\n",
       "      <td>1995</td>\n",
       "      <td>7</td>\n",
       "      <td>1.8</td>\n",
       "      <td>4</td>\n",
       "      <td>4</td>\n",
       "      <td>3</td>\n",
       "      <td>8.3</td>\n",
       "    </tr>\n",
       "    <tr>\n",
       "      <th>3</th>\n",
       "      <td>1995</td>\n",
       "      <td>0</td>\n",
       "      <td>3.2</td>\n",
       "      <td>6</td>\n",
       "      <td>1</td>\n",
       "      <td>3</td>\n",
       "      <td>10.9</td>\n",
       "    </tr>\n",
       "    <tr>\n",
       "      <th>4</th>\n",
       "      <td>1995</td>\n",
       "      <td>0</td>\n",
       "      <td>3.2</td>\n",
       "      <td>6</td>\n",
       "      <td>1</td>\n",
       "      <td>3</td>\n",
       "      <td>11.3</td>\n",
       "    </tr>\n",
       "  </tbody>\n",
       "</table>\n",
       "</div>"
      ],
      "text/plain": [
       "   MODEL YEAR  VEHICLE CLASS  ENGINE SIZE (L)  CYLINDERS  TRANSMISSION  \\\n",
       "0        1995              7              1.8          4             1   \n",
       "1        1995              7              1.8          4             4   \n",
       "2        1995              7              1.8          4             4   \n",
       "3        1995              0              3.2          6             1   \n",
       "4        1995              0              3.2          6             1   \n",
       "\n",
       "   FUEL TYPE  FUEL C (L/100 km)  \n",
       "0          4                8.8  \n",
       "1          4                8.4  \n",
       "2          3                8.3  \n",
       "3          3               10.9  \n",
       "4          3               11.3  "
      ]
     },
     "execution_count": 48,
     "metadata": {},
     "output_type": "execute_result"
    }
   ],
   "source": [
    "X.head()"
   ]
  },
  {
   "cell_type": "code",
   "execution_count": null,
   "metadata": {},
   "outputs": [],
   "source": [
    "# train test split\n",
    "from sklearn.model_selection import train_test_split,cross_val_score\n",
    "X_train, X_test, y_train, y_test = train_test_split(X, y,test_size=0.2, random_state=42)"
   ]
  },
  {
   "cell_type": "code",
   "execution_count": null,
   "metadata": {},
   "outputs": [],
   "source": [
    "# standardization\n",
    "from sklearn.preprocessing import StandardScaler\n",
    "st = StandardScaler()\n",
    "X_train = st.fit_transform(X_train)\n",
    "X_test = st.transform(X_test)"
   ]
  },
  {
   "cell_type": "markdown",
   "metadata": {},
   "source": [
    "Model Building"
   ]
  },
  {
   "cell_type": "markdown",
   "metadata": {},
   "source": [
    "### Linear Regression"
   ]
  },
  {
   "cell_type": "code",
   "execution_count": null,
   "metadata": {},
   "outputs": [
    {
     "data": {
      "text/html": [
       "<style>#sk-container-id-5 {color: black;}#sk-container-id-5 pre{padding: 0;}#sk-container-id-5 div.sk-toggleable {background-color: white;}#sk-container-id-5 label.sk-toggleable__label {cursor: pointer;display: block;width: 100%;margin-bottom: 0;padding: 0.3em;box-sizing: border-box;text-align: center;}#sk-container-id-5 label.sk-toggleable__label-arrow:before {content: \"▸\";float: left;margin-right: 0.25em;color: #696969;}#sk-container-id-5 label.sk-toggleable__label-arrow:hover:before {color: black;}#sk-container-id-5 div.sk-estimator:hover label.sk-toggleable__label-arrow:before {color: black;}#sk-container-id-5 div.sk-toggleable__content {max-height: 0;max-width: 0;overflow: hidden;text-align: left;background-color: #f0f8ff;}#sk-container-id-5 div.sk-toggleable__content pre {margin: 0.2em;color: black;border-radius: 0.25em;background-color: #f0f8ff;}#sk-container-id-5 input.sk-toggleable__control:checked~div.sk-toggleable__content {max-height: 200px;max-width: 100%;overflow: auto;}#sk-container-id-5 input.sk-toggleable__control:checked~label.sk-toggleable__label-arrow:before {content: \"▾\";}#sk-container-id-5 div.sk-estimator input.sk-toggleable__control:checked~label.sk-toggleable__label {background-color: #d4ebff;}#sk-container-id-5 div.sk-label input.sk-toggleable__control:checked~label.sk-toggleable__label {background-color: #d4ebff;}#sk-container-id-5 input.sk-hidden--visually {border: 0;clip: rect(1px 1px 1px 1px);clip: rect(1px, 1px, 1px, 1px);height: 1px;margin: -1px;overflow: hidden;padding: 0;position: absolute;width: 1px;}#sk-container-id-5 div.sk-estimator {font-family: monospace;background-color: #f0f8ff;border: 1px dotted black;border-radius: 0.25em;box-sizing: border-box;margin-bottom: 0.5em;}#sk-container-id-5 div.sk-estimator:hover {background-color: #d4ebff;}#sk-container-id-5 div.sk-parallel-item::after {content: \"\";width: 100%;border-bottom: 1px solid gray;flex-grow: 1;}#sk-container-id-5 div.sk-label:hover label.sk-toggleable__label {background-color: #d4ebff;}#sk-container-id-5 div.sk-serial::before {content: \"\";position: absolute;border-left: 1px solid gray;box-sizing: border-box;top: 0;bottom: 0;left: 50%;z-index: 0;}#sk-container-id-5 div.sk-serial {display: flex;flex-direction: column;align-items: center;background-color: white;padding-right: 0.2em;padding-left: 0.2em;position: relative;}#sk-container-id-5 div.sk-item {position: relative;z-index: 1;}#sk-container-id-5 div.sk-parallel {display: flex;align-items: stretch;justify-content: center;background-color: white;position: relative;}#sk-container-id-5 div.sk-item::before, #sk-container-id-5 div.sk-parallel-item::before {content: \"\";position: absolute;border-left: 1px solid gray;box-sizing: border-box;top: 0;bottom: 0;left: 50%;z-index: -1;}#sk-container-id-5 div.sk-parallel-item {display: flex;flex-direction: column;z-index: 1;position: relative;background-color: white;}#sk-container-id-5 div.sk-parallel-item:first-child::after {align-self: flex-end;width: 50%;}#sk-container-id-5 div.sk-parallel-item:last-child::after {align-self: flex-start;width: 50%;}#sk-container-id-5 div.sk-parallel-item:only-child::after {width: 0;}#sk-container-id-5 div.sk-dashed-wrapped {border: 1px dashed gray;margin: 0 0.4em 0.5em 0.4em;box-sizing: border-box;padding-bottom: 0.4em;background-color: white;}#sk-container-id-5 div.sk-label label {font-family: monospace;font-weight: bold;display: inline-block;line-height: 1.2em;}#sk-container-id-5 div.sk-label-container {text-align: center;}#sk-container-id-5 div.sk-container {/* jupyter's `normalize.less` sets `[hidden] { display: none; }` but bootstrap.min.css set `[hidden] { display: none !important; }` so we also need the `!important` here to be able to override the default hidden behavior on the sphinx rendered scikit-learn.org. See: https://github.com/scikit-learn/scikit-learn/issues/21755 */display: inline-block !important;position: relative;}#sk-container-id-5 div.sk-text-repr-fallback {display: none;}</style><div id=\"sk-container-id-5\" class=\"sk-top-container\"><div class=\"sk-text-repr-fallback\"><pre>LinearRegression()</pre><b>In a Jupyter environment, please rerun this cell to show the HTML representation or trust the notebook. <br />On GitHub, the HTML representation is unable to render, please try loading this page with nbviewer.org.</b></div><div class=\"sk-container\" hidden><div class=\"sk-item\"><div class=\"sk-estimator sk-toggleable\"><input class=\"sk-toggleable__control sk-hidden--visually\" id=\"sk-estimator-id-5\" type=\"checkbox\" checked><label for=\"sk-estimator-id-5\" class=\"sk-toggleable__label sk-toggleable__label-arrow\">LinearRegression</label><div class=\"sk-toggleable__content\"><pre>LinearRegression()</pre></div></div></div></div></div>"
      ],
      "text/plain": [
       "LinearRegression()"
      ]
     },
     "execution_count": 155,
     "metadata": {},
     "output_type": "execute_result"
    }
   ],
   "source": [
    "# linear regression\n",
    "from sklearn.linear_model import LinearRegression\n",
    "lr = LinearRegression()\n",
    "lr.fit(X_train, y_train)\n"
   ]
  },
  {
   "cell_type": "code",
   "execution_count": null,
   "metadata": {},
   "outputs": [],
   "source": [
    "from sklearn.linear_model import LinearRegression\n",
    "from sklearn.metrics import mean_squared_error, mean_absolute_error, r2_score\n",
    "from sklearn.model_selection import cross_val_score\n",
    "# Predict on the training data\n",
    "lr_train_preds = lr.predict(X_train)\n",
    "\n",
    "# Calculate RMSE, MAE, and R2 for training data\n",
    "lr_rmse_train = np.sqrt(mean_squared_error(y_train, lr_train_preds))\n",
    "lr_mae_train = mean_absolute_error(y_train, lr_train_preds)\n",
    "lr_r2_train = r2_score(y_train, lr_train_preds)\n",
    "\n",
    "# Predict on the testing data\n",
    "lr_test_preds = lr.predict(X_test)\n",
    "\n",
    "# Calculate RMSE, MAE, and R2 for testing data\n",
    "lr_rmse_test = np.sqrt(mean_squared_error(y_test, lr_test_preds))\n",
    "lr_mae_test = mean_absolute_error(y_test, lr_test_preds)\n",
    "lr_r2_test = r2_score(y_test, lr_test_preds)\n",
    "\n",
    "# Perform cross-validation (5-fold in this example)\n",
    "cv_scores = cross_val_score(lr, X_train, y_train, cv=5, scoring='r2')\n",
    "# Calculate the mean R2 score from cross-validation\n",
    "mean_r2 = cv_scores.mean()\n",
    "\n",
    "# create a dataframe to store the results\n",
    "results = pd.DataFrame(columns=['Model', 'Training Accuracy','Training RMSE', 'Training MAE', \n",
    "                                'Testing Accuracy', 'Testing RMSE', 'Testing MAE', 'Mean Cross-Validation Accuracy'])\n",
    "\n",
    "# append the results to the dataframe\n",
    "results = results.append({'Model': 'Linear Regression',\n",
    "                          'Training Accuracy': lr_r2_train,\n",
    "                          'Training RMSE': lr_rmse_train,\n",
    "                          'Training MAE': lr_mae_train,\n",
    "                          'Testing Accuracy': lr_r2_test,\n",
    "                          'Testing RMSE': lr_rmse_test,\n",
    "                          'Testing MAE': lr_mae_test,\n",
    "                          'Mean Cross-Validation Accuracy': mean_r2}, ignore_index=True)"
   ]
  },
  {
   "cell_type": "code",
   "execution_count": null,
   "metadata": {},
   "outputs": [
    {
     "data": {
      "text/html": [
       "<div>\n",
       "<style scoped>\n",
       "    .dataframe tbody tr th:only-of-type {\n",
       "        vertical-align: middle;\n",
       "    }\n",
       "\n",
       "    .dataframe tbody tr th {\n",
       "        vertical-align: top;\n",
       "    }\n",
       "\n",
       "    .dataframe thead th {\n",
       "        text-align: right;\n",
       "    }\n",
       "</style>\n",
       "<table border=\"1\" class=\"dataframe\">\n",
       "  <thead>\n",
       "    <tr style=\"text-align: right;\">\n",
       "      <th></th>\n",
       "      <th>Model</th>\n",
       "      <th>Training Accuracy</th>\n",
       "      <th>Training RMSE</th>\n",
       "      <th>Training MAE</th>\n",
       "      <th>Testing Accuracy</th>\n",
       "      <th>Testing RMSE</th>\n",
       "      <th>Testing MAE</th>\n",
       "      <th>Mean Cross-Validation Accuracy</th>\n",
       "    </tr>\n",
       "  </thead>\n",
       "  <tbody>\n",
       "    <tr>\n",
       "      <th>0</th>\n",
       "      <td>Linear Regression</td>\n",
       "      <td>0.905411</td>\n",
       "      <td>18.486746</td>\n",
       "      <td>11.719272</td>\n",
       "      <td>0.912305</td>\n",
       "      <td>17.902557</td>\n",
       "      <td>11.480338</td>\n",
       "      <td>0.905314</td>\n",
       "    </tr>\n",
       "  </tbody>\n",
       "</table>\n",
       "</div>"
      ],
      "text/plain": [
       "               Model  Training Accuracy  Training RMSE  Training MAE  \\\n",
       "0  Linear Regression           0.905411      18.486746     11.719272   \n",
       "\n",
       "   Testing Accuracy  Testing RMSE  Testing MAE  Mean Cross-Validation Accuracy  \n",
       "0          0.912305     17.902557    11.480338                        0.905314  "
      ]
     },
     "execution_count": 157,
     "metadata": {},
     "output_type": "execute_result"
    }
   ],
   "source": [
    "results"
   ]
  },
  {
   "cell_type": "code",
   "execution_count": null,
   "metadata": {},
   "outputs": [
    {
     "data": {
      "image/png": "[encoded data removed]",
      "text/plain": [
       "<Figure size 600x400 with 1 Axes>"
      ]
     },
     "metadata": {},
     "output_type": "display_data"
    }
   ],
   "source": [
    "import matplotlib.pyplot as plt\n",
    "import numpy as np\n",
    "\n",
    "# Assuming you have your test data and predictions\n",
    "actual_values = y_test  # Replace with your actual target values\n",
    "predicted_values = lr_test_preds  # Replace with your model's predictions\n",
    "\n",
    "# Calculate the best-fit line\n",
    "slope, intercept = np.polyfit(actual_values, predicted_values, 1)\n",
    "best_fit_line = slope * actual_values + intercept\n",
    "\n",
    "# Create a scatter plot with the best-fit line\n",
    "plt.figure(figsize=(6, 4))\n",
    "plt.scatter(actual_values, predicted_values,alpha=1,s=5, label='Data Points')\n",
    "plt.plot(actual_values, best_fit_line, color='red', label='Best-Fit Line')\n",
    "plt.title('Scatter Plot of Actual vs. Predicted Values with Best-Fit Line')\n",
    "plt.xlabel('Actual Values')\n",
    "plt.ylabel('Predicted Values')\n",
    "plt.legend()\n",
    "plt.show()\n"
   ]
  },
  {
   "cell_type": "markdown",
   "metadata": {},
   "source": [
    "### Decision Tree"
   ]
  },
  {
   "cell_type": "code",
   "execution_count": null,
   "metadata": {},
   "outputs": [
    {
     "data": {
      "text/html": [
       "<style>#sk-container-id-6 {color: black;}#sk-container-id-6 pre{padding: 0;}#sk-container-id-6 div.sk-toggleable {background-color: white;}#sk-container-id-6 label.sk-toggleable__label {cursor: pointer;display: block;width: 100%;margin-bottom: 0;padding: 0.3em;box-sizing: border-box;text-align: center;}#sk-container-id-6 label.sk-toggleable__label-arrow:before {content: \"▸\";float: left;margin-right: 0.25em;color: #696969;}#sk-container-id-6 label.sk-toggleable__label-arrow:hover:before {color: black;}#sk-container-id-6 div.sk-estimator:hover label.sk-toggleable__label-arrow:before {color: black;}#sk-container-id-6 div.sk-toggleable__content {max-height: 0;max-width: 0;overflow: hidden;text-align: left;background-color: #f0f8ff;}#sk-container-id-6 div.sk-toggleable__content pre {margin: 0.2em;color: black;border-radius: 0.25em;background-color: #f0f8ff;}#sk-container-id-6 input.sk-toggleable__control:checked~div.sk-toggleable__content {max-height: 200px;max-width: 100%;overflow: auto;}#sk-container-id-6 input.sk-toggleable__control:checked~label.sk-toggleable__label-arrow:before {content: \"▾\";}#sk-container-id-6 div.sk-estimator input.sk-toggleable__control:checked~label.sk-toggleable__label {background-color: #d4ebff;}#sk-container-id-6 div.sk-label input.sk-toggleable__control:checked~label.sk-toggleable__label {background-color: #d4ebff;}#sk-container-id-6 input.sk-hidden--visually {border: 0;clip: rect(1px 1px 1px 1px);clip: rect(1px, 1px, 1px, 1px);height: 1px;margin: -1px;overflow: hidden;padding: 0;position: absolute;width: 1px;}#sk-container-id-6 div.sk-estimator {font-family: monospace;background-color: #f0f8ff;border: 1px dotted black;border-radius: 0.25em;box-sizing: border-box;margin-bottom: 0.5em;}#sk-container-id-6 div.sk-estimator:hover {background-color: #d4ebff;}#sk-container-id-6 div.sk-parallel-item::after {content: \"\";width: 100%;border-bottom: 1px solid gray;flex-grow: 1;}#sk-container-id-6 div.sk-label:hover label.sk-toggleable__label {background-color: #d4ebff;}#sk-container-id-6 div.sk-serial::before {content: \"\";position: absolute;border-left: 1px solid gray;box-sizing: border-box;top: 0;bottom: 0;left: 50%;z-index: 0;}#sk-container-id-6 div.sk-serial {display: flex;flex-direction: column;align-items: center;background-color: white;padding-right: 0.2em;padding-left: 0.2em;position: relative;}#sk-container-id-6 div.sk-item {position: relative;z-index: 1;}#sk-container-id-6 div.sk-parallel {display: flex;align-items: stretch;justify-content: center;background-color: white;position: relative;}#sk-container-id-6 div.sk-item::before, #sk-container-id-6 div.sk-parallel-item::before {content: \"\";position: absolute;border-left: 1px solid gray;box-sizing: border-box;top: 0;bottom: 0;left: 50%;z-index: -1;}#sk-container-id-6 div.sk-parallel-item {display: flex;flex-direction: column;z-index: 1;position: relative;background-color: white;}#sk-container-id-6 div.sk-parallel-item:first-child::after {align-self: flex-end;width: 50%;}#sk-container-id-6 div.sk-parallel-item:last-child::after {align-self: flex-start;width: 50%;}#sk-container-id-6 div.sk-parallel-item:only-child::after {width: 0;}#sk-container-id-6 div.sk-dashed-wrapped {border: 1px dashed gray;margin: 0 0.4em 0.5em 0.4em;box-sizing: border-box;padding-bottom: 0.4em;background-color: white;}#sk-container-id-6 div.sk-label label {font-family: monospace;font-weight: bold;display: inline-block;line-height: 1.2em;}#sk-container-id-6 div.sk-label-container {text-align: center;}#sk-container-id-6 div.sk-container {/* jupyter's `normalize.less` sets `[hidden] { display: none; }` but bootstrap.min.css set `[hidden] { display: none !important; }` so we also need the `!important` here to be able to override the default hidden behavior on the sphinx rendered scikit-learn.org. See: https://github.com/scikit-learn/scikit-learn/issues/21755 */display: inline-block !important;position: relative;}#sk-container-id-6 div.sk-text-repr-fallback {display: none;}</style><div id=\"sk-container-id-6\" class=\"sk-top-container\"><div class=\"sk-text-repr-fallback\"><pre>DecisionTreeRegressor(max_depth=3)</pre><b>In a Jupyter environment, please rerun this cell to show the HTML representation or trust the notebook. <br />On GitHub, the HTML representation is unable to render, please try loading this page with nbviewer.org.</b></div><div class=\"sk-container\" hidden><div class=\"sk-item\"><div class=\"sk-estimator sk-toggleable\"><input class=\"sk-toggleable__control sk-hidden--visually\" id=\"sk-estimator-id-6\" type=\"checkbox\" checked><label for=\"sk-estimator-id-6\" class=\"sk-toggleable__label sk-toggleable__label-arrow\">DecisionTreeRegressor</label><div class=\"sk-toggleable__content\"><pre>DecisionTreeRegressor(max_depth=3)</pre></div></div></div></div></div>"
      ],
      "text/plain": [
       "DecisionTreeRegressor(max_depth=3)"
      ]
     },
     "execution_count": 159,
     "metadata": {},
     "output_type": "execute_result"
    }
   ],
   "source": [
    "# decision tree regressor\n",
    "from sklearn.tree import DecisionTreeRegressor\n",
    "dt = DecisionTreeRegressor(max_depth=3)\n",
    "dt.fit(X_train, y_train)"
   ]
  },
  {
   "cell_type": "code",
   "execution_count": null,
   "metadata": {},
   "outputs": [],
   "source": [
    "from sklearn.tree import DecisionTreeRegressor\n",
    "\n",
    "# Predict on the training data\n",
    "dt_train_preds = dt.predict(X_train)\n",
    "\n",
    "# Calculate RMSE, MAE, and R2 for training data\n",
    "dt_rmse_train = np.sqrt(mean_squared_error(y_train, dt_train_preds))\n",
    "dt_mae_train = mean_absolute_error(y_train, dt_train_preds)\n",
    "dt_r2_train = r2_score(y_train, dt_train_preds)\n",
    "\n",
    "# Predict on the testing data\n",
    "dt_test_preds = dt.predict(X_test)\n",
    "\n",
    "# Calculate RMSE, MAE, and R2 for testing data\n",
    "dt_rmse_test = np.sqrt(mean_squared_error(y_test, dt_test_preds))\n",
    "dt_mae_test = mean_absolute_error(y_test, dt_test_preds)\n",
    "dt_r2_test = r2_score(y_test, dt_test_preds)\n",
    "\n",
    "# Perform cross-validation (5-fold in this example)\n",
    "cv_scores = cross_val_score(dt, X, y, cv=5, scoring='r2')\n",
    "# Calculate the mean R2 score from cross-validation\n",
    "mean_r2 = cv_scores.mean()\n",
    "\n",
    "# Append the results to the DataFrame\n",
    "results = results.append({'Model': 'Decision Tree Regressor',\n",
    "                          'Training Accuracy': dt_r2_train,\n",
    "                          'Training RMSE': dt_rmse_train,\n",
    "                          'Training MAE': dt_mae_train,\n",
    "                          'Testing Accuracy': dt_r2_test,\n",
    "                          'Testing RMSE': dt_rmse_test,\n",
    "                          'Testing MAE': dt_mae_test,\n",
    "                          'Mean Cross-Validation Accuracy': mean_r2}, ignore_index=True)\n"
   ]
  },
  {
   "cell_type": "code",
   "execution_count": null,
   "metadata": {},
   "outputs": [
    {
     "data": {
      "text/html": [
       "<div>\n",
       "<style scoped>\n",
       "    .dataframe tbody tr th:only-of-type {\n",
       "        vertical-align: middle;\n",
       "    }\n",
       "\n",
       "    .dataframe tbody tr th {\n",
       "        vertical-align: top;\n",
       "    }\n",
       "\n",
       "    .dataframe thead th {\n",
       "        text-align: right;\n",
       "    }\n",
       "</style>\n",
       "<table border=\"1\" class=\"dataframe\">\n",
       "  <thead>\n",
       "    <tr style=\"text-align: right;\">\n",
       "      <th></th>\n",
       "      <th>Model</th>\n",
       "      <th>Training Accuracy</th>\n",
       "      <th>Training RMSE</th>\n",
       "      <th>Training MAE</th>\n",
       "      <th>Testing Accuracy</th>\n",
       "      <th>Testing RMSE</th>\n",
       "      <th>Testing MAE</th>\n",
       "      <th>Mean Cross-Validation Accuracy</th>\n",
       "    </tr>\n",
       "  </thead>\n",
       "  <tbody>\n",
       "    <tr>\n",
       "      <th>0</th>\n",
       "      <td>Linear Regression</td>\n",
       "      <td>0.905411</td>\n",
       "      <td>18.486746</td>\n",
       "      <td>11.719272</td>\n",
       "      <td>0.912305</td>\n",
       "      <td>17.902557</td>\n",
       "      <td>11.480338</td>\n",
       "      <td>0.905314</td>\n",
       "    </tr>\n",
       "    <tr>\n",
       "      <th>1</th>\n",
       "      <td>Decision Tree Regressor</td>\n",
       "      <td>0.897972</td>\n",
       "      <td>19.199965</td>\n",
       "      <td>12.093846</td>\n",
       "      <td>0.897662</td>\n",
       "      <td>19.339580</td>\n",
       "      <td>12.141641</td>\n",
       "      <td>0.887056</td>\n",
       "    </tr>\n",
       "  </tbody>\n",
       "</table>\n",
       "</div>"
      ],
      "text/plain": [
       "                     Model  Training Accuracy  Training RMSE  Training MAE  \\\n",
       "0        Linear Regression           0.905411      18.486746     11.719272   \n",
       "1  Decision Tree Regressor           0.897972      19.199965     12.093846   \n",
       "\n",
       "   Testing Accuracy  Testing RMSE  Testing MAE  Mean Cross-Validation Accuracy  \n",
       "0          0.912305     17.902557    11.480338                        0.905314  \n",
       "1          0.897662     19.339580    12.141641                        0.887056  "
      ]
     },
     "execution_count": 161,
     "metadata": {},
     "output_type": "execute_result"
    }
   ],
   "source": [
    "results"
   ]
  },
  {
   "cell_type": "code",
   "execution_count": null,
   "metadata": {},
   "outputs": [
    {
     "data": {
      "image/png": "[encoded data removed]",
      "text/plain": [
       "<Figure size 600x400 with 1 Axes>"
      ]
     },
     "metadata": {},
     "output_type": "display_data"
    }
   ],
   "source": [
    "import matplotlib.pyplot as plt\n",
    "\n",
    "# Assuming you have your test data and predictions\n",
    "actual_values = y_test\n",
    "predicted_values = dt_test_preds\n",
    "\n",
    "# Create a scatter plot\n",
    "plt.figure(figsize=(6, 4))\n",
    "plt.scatter(actual_values, predicted_values,s=5, alpha=0.5)\n",
    "plt.title('Scatter Plot of Actual vs. Predicted Values (Decision Tree Regressor)')\n",
    "plt.xlabel('Actual Values')\n",
    "plt.ylabel('Predicted Values')\n",
    "plt.show()\n"
   ]
  },
  {
   "cell_type": "markdown",
   "metadata": {},
   "source": [
    "### Random Forest Regressor"
   ]
  },
  {
   "cell_type": "code",
   "execution_count": null,
   "metadata": {},
   "outputs": [
    {
     "data": {
      "text/html": [
       "<style>#sk-container-id-7 {color: black;}#sk-container-id-7 pre{padding: 0;}#sk-container-id-7 div.sk-toggleable {background-color: white;}#sk-container-id-7 label.sk-toggleable__label {cursor: pointer;display: block;width: 100%;margin-bottom: 0;padding: 0.3em;box-sizing: border-box;text-align: center;}#sk-container-id-7 label.sk-toggleable__label-arrow:before {content: \"▸\";float: left;margin-right: 0.25em;color: #696969;}#sk-container-id-7 label.sk-toggleable__label-arrow:hover:before {color: black;}#sk-container-id-7 div.sk-estimator:hover label.sk-toggleable__label-arrow:before {color: black;}#sk-container-id-7 div.sk-toggleable__content {max-height: 0;max-width: 0;overflow: hidden;text-align: left;background-color: #f0f8ff;}#sk-container-id-7 div.sk-toggleable__content pre {margin: 0.2em;color: black;border-radius: 0.25em;background-color: #f0f8ff;}#sk-container-id-7 input.sk-toggleable__control:checked~div.sk-toggleable__content {max-height: 200px;max-width: 100%;overflow: auto;}#sk-container-id-7 input.sk-toggleable__control:checked~label.sk-toggleable__label-arrow:before {content: \"▾\";}#sk-container-id-7 div.sk-estimator input.sk-toggleable__control:checked~label.sk-toggleable__label {background-color: #d4ebff;}#sk-container-id-7 div.sk-label input.sk-toggleable__control:checked~label.sk-toggleable__label {background-color: #d4ebff;}#sk-container-id-7 input.sk-hidden--visually {border: 0;clip: rect(1px 1px 1px 1px);clip: rect(1px, 1px, 1px, 1px);height: 1px;margin: -1px;overflow: hidden;padding: 0;position: absolute;width: 1px;}#sk-container-id-7 div.sk-estimator {font-family: monospace;background-color: #f0f8ff;border: 1px dotted black;border-radius: 0.25em;box-sizing: border-box;margin-bottom: 0.5em;}#sk-container-id-7 div.sk-estimator:hover {background-color: #d4ebff;}#sk-container-id-7 div.sk-parallel-item::after {content: \"\";width: 100%;border-bottom: 1px solid gray;flex-grow: 1;}#sk-container-id-7 div.sk-label:hover label.sk-toggleable__label {background-color: #d4ebff;}#sk-container-id-7 div.sk-serial::before {content: \"\";position: absolute;border-left: 1px solid gray;box-sizing: border-box;top: 0;bottom: 0;left: 50%;z-index: 0;}#sk-container-id-7 div.sk-serial {display: flex;flex-direction: column;align-items: center;background-color: white;padding-right: 0.2em;padding-left: 0.2em;position: relative;}#sk-container-id-7 div.sk-item {position: relative;z-index: 1;}#sk-container-id-7 div.sk-parallel {display: flex;align-items: stretch;justify-content: center;background-color: white;position: relative;}#sk-container-id-7 div.sk-item::before, #sk-container-id-7 div.sk-parallel-item::before {content: \"\";position: absolute;border-left: 1px solid gray;box-sizing: border-box;top: 0;bottom: 0;left: 50%;z-index: -1;}#sk-container-id-7 div.sk-parallel-item {display: flex;flex-direction: column;z-index: 1;position: relative;background-color: white;}#sk-container-id-7 div.sk-parallel-item:first-child::after {align-self: flex-end;width: 50%;}#sk-container-id-7 div.sk-parallel-item:last-child::after {align-self: flex-start;width: 50%;}#sk-container-id-7 div.sk-parallel-item:only-child::after {width: 0;}#sk-container-id-7 div.sk-dashed-wrapped {border: 1px dashed gray;margin: 0 0.4em 0.5em 0.4em;box-sizing: border-box;padding-bottom: 0.4em;background-color: white;}#sk-container-id-7 div.sk-label label {font-family: monospace;font-weight: bold;display: inline-block;line-height: 1.2em;}#sk-container-id-7 div.sk-label-container {text-align: center;}#sk-container-id-7 div.sk-container {/* jupyter's `normalize.less` sets `[hidden] { display: none; }` but bootstrap.min.css set `[hidden] { display: none !important; }` so we also need the `!important` here to be able to override the default hidden behavior on the sphinx rendered scikit-learn.org. See: https://github.com/scikit-learn/scikit-learn/issues/21755 */display: inline-block !important;position: relative;}#sk-container-id-7 div.sk-text-repr-fallback {display: none;}</style><div id=\"sk-container-id-7\" class=\"sk-top-container\"><div class=\"sk-text-repr-fallback\"><pre>RandomForestRegressor(max_depth=3, n_estimators=30, random_state=42)</pre><b>In a Jupyter environment, please rerun this cell to show the HTML representation or trust the notebook. <br />On GitHub, the HTML representation is unable to render, please try loading this page with nbviewer.org.</b></div><div class=\"sk-container\" hidden><div class=\"sk-item\"><div class=\"sk-estimator sk-toggleable\"><input class=\"sk-toggleable__control sk-hidden--visually\" id=\"sk-estimator-id-7\" type=\"checkbox\" checked><label for=\"sk-estimator-id-7\" class=\"sk-toggleable__label sk-toggleable__label-arrow\">RandomForestRegressor</label><div class=\"sk-toggleable__content\"><pre>RandomForestRegressor(max_depth=3, n_estimators=30, random_state=42)</pre></div></div></div></div></div>"
      ],
      "text/plain": [
       "RandomForestRegressor(max_depth=3, n_estimators=30, random_state=42)"
      ]
     },
     "execution_count": 163,
     "metadata": {},
     "output_type": "execute_result"
    }
   ],
   "source": [
    "#random forest regressor\n",
    "from sklearn.ensemble import RandomForestRegressor\n",
    "rf = RandomForestRegressor(max_depth=3, n_estimators=30, random_state=42)\n",
    "rf.fit(X_train, y_train)"
   ]
  },
  {
   "cell_type": "code",
   "execution_count": null,
   "metadata": {},
   "outputs": [],
   "source": [
    "from sklearn.ensemble import RandomForestRegressor\n",
    "from sklearn.metrics import mean_squared_error, mean_absolute_error, r2_score\n",
    "from sklearn.model_selection import cross_val_score\n",
    "\n",
    "\n",
    "\n",
    "# Predict on the training data\n",
    "rf_train_preds = rf.predict(X_train)\n",
    "\n",
    "# Calculate RMSE, MAE, and R2 for training data\n",
    "rf_rmse_train = np.sqrt(mean_squared_error(y_train, rf_train_preds))\n",
    "rf_mae_train = mean_absolute_error(y_train, rf_train_preds)\n",
    "rf_r2_train = r2_score(y_train, rf_train_preds)\n",
    "\n",
    "# Predict on the testing data\n",
    "rf_test_preds = rf.predict(X_test)\n",
    "\n",
    "# Calculate RMSE, MAE, and R2 for testing data\n",
    "rf_rmse_test = np.sqrt(mean_squared_error(y_test, rf_test_preds))\n",
    "rf_mae_test = mean_absolute_error(y_test, rf_test_preds)\n",
    "rf_r2_test = r2_score(y_test, rf_test_preds)\n",
    "\n",
    "# Perform cross-validation (5-fold in this example)\n",
    "cv_scores = cross_val_score(rf, X, y, cv=5, scoring='r2')\n",
    "# Calculate the mean R2 score from cross-validation\n",
    "mean_r2 = cv_scores.mean()\n",
    "\n",
    "# Append the results to the DataFrame\n",
    "results = results.append({'Model': 'Random Forest Regressor ',\n",
    "                          'Training Accuracy': rf_r2_train,\n",
    "                          'Training RMSE': rf_rmse_train,\n",
    "                          'Training MAE': rf_mae_train,\n",
    "                          'Testing Accuracy': rf_r2_test,\n",
    "                          'Testing RMSE': rf_rmse_test,\n",
    "                          'Testing MAE': rf_mae_test,\n",
    "                          'Mean Cross-Validation Accuracy': mean_r2}, ignore_index=True)\n"
   ]
  },
  {
   "cell_type": "code",
   "execution_count": null,
   "metadata": {},
   "outputs": [
    {
     "data": {
      "text/html": [
       "<div>\n",
       "<style scoped>\n",
       "    .dataframe tbody tr th:only-of-type {\n",
       "        vertical-align: middle;\n",
       "    }\n",
       "\n",
       "    .dataframe tbody tr th {\n",
       "        vertical-align: top;\n",
       "    }\n",
       "\n",
       "    .dataframe thead th {\n",
       "        text-align: right;\n",
       "    }\n",
       "</style>\n",
       "<table border=\"1\" class=\"dataframe\">\n",
       "  <thead>\n",
       "    <tr style=\"text-align: right;\">\n",
       "      <th></th>\n",
       "      <th>Model</th>\n",
       "      <th>Training Accuracy</th>\n",
       "      <th>Training RMSE</th>\n",
       "      <th>Training MAE</th>\n",
       "      <th>Testing Accuracy</th>\n",
       "      <th>Testing RMSE</th>\n",
       "      <th>Testing MAE</th>\n",
       "      <th>Mean Cross-Validation Accuracy</th>\n",
       "    </tr>\n",
       "  </thead>\n",
       "  <tbody>\n",
       "    <tr>\n",
       "      <th>0</th>\n",
       "      <td>Linear Regression</td>\n",
       "      <td>0.905411</td>\n",
       "      <td>18.486746</td>\n",
       "      <td>11.719272</td>\n",
       "      <td>0.912305</td>\n",
       "      <td>17.902557</td>\n",
       "      <td>11.480338</td>\n",
       "      <td>0.905314</td>\n",
       "    </tr>\n",
       "    <tr>\n",
       "      <th>1</th>\n",
       "      <td>Decision Tree Regressor</td>\n",
       "      <td>0.897972</td>\n",
       "      <td>19.199965</td>\n",
       "      <td>12.093846</td>\n",
       "      <td>0.897662</td>\n",
       "      <td>19.339580</td>\n",
       "      <td>12.141641</td>\n",
       "      <td>0.887056</td>\n",
       "    </tr>\n",
       "    <tr>\n",
       "      <th>2</th>\n",
       "      <td>Random Forest Regressor</td>\n",
       "      <td>0.906404</td>\n",
       "      <td>18.389481</td>\n",
       "      <td>10.660045</td>\n",
       "      <td>0.905895</td>\n",
       "      <td>18.545311</td>\n",
       "      <td>10.697047</td>\n",
       "      <td>0.898004</td>\n",
       "    </tr>\n",
       "  </tbody>\n",
       "</table>\n",
       "</div>"
      ],
      "text/plain": [
       "                      Model  Training Accuracy  Training RMSE  Training MAE  \\\n",
       "0         Linear Regression           0.905411      18.486746     11.719272   \n",
       "1   Decision Tree Regressor           0.897972      19.199965     12.093846   \n",
       "2  Random Forest Regressor            0.906404      18.389481     10.660045   \n",
       "\n",
       "   Testing Accuracy  Testing RMSE  Testing MAE  Mean Cross-Validation Accuracy  \n",
       "0          0.912305     17.902557    11.480338                        0.905314  \n",
       "1          0.897662     19.339580    12.141641                        0.887056  \n",
       "2          0.905895     18.545311    10.697047                        0.898004  "
      ]
     },
     "execution_count": 165,
     "metadata": {},
     "output_type": "execute_result"
    }
   ],
   "source": [
    "results"
   ]
  },
  {
   "cell_type": "code",
   "execution_count": 284,
   "metadata": {},
   "outputs": [
    {
     "data": {
      "image/png": "[encoded data removed]",
      "text/plain": [
       "<Figure size 800x800 with 1 Axes>"
      ]
     },
     "metadata": {},
     "output_type": "display_data"
    }
   ],
   "source": [
    "import numpy as np\n",
    "import matplotlib.pyplot as plt\n",
    "from sklearn.ensemble import RandomForestRegressor\n",
    "from sklearn.model_selection import learning_curve\n",
    "\n",
    "\n",
    "# Create a function to plot the learning curve\n",
    "def plot_learning_curve(estimator, title, X, y, ylim=None, cv=None,\n",
    "                        n_jobs=None, train_sizes=np.linspace(.1, 1.0, 5)):\n",
    "    plt.figure()\n",
    "    plt.title(title)\n",
    "    if ylim is not None:\n",
    "        plt.ylim(*ylim)\n",
    "    plt.xlabel(\"Training examples\")\n",
    "    plt.ylabel(\"Score\")\n",
    "    train_sizes, train_scores, test_scores = learning_curve(\n",
    "        estimator, X, y, cv=cv, n_jobs=n_jobs, train_sizes=train_sizes, scoring='r2')\n",
    "    train_scores_mean = np.mean(train_scores, axis=1)\n",
    "    train_scores_std = np.std(train_scores, axis=1)\n",
    "    test_scores_mean = np.mean(test_scores, axis=1)\n",
    "    test_scores_std = np.std(test_scores, axis=1)\n",
    "    plt.grid()\n",
    "\n",
    "    plt.fill_between(train_sizes, train_scores_mean - train_scores_std,\n",
    "                     train_scores_mean + train_scores_std, alpha=0.1, color=\"r\")\n",
    "    plt.fill_between(train_sizes, test_scores_mean - test_scores_std,\n",
    "                     test_scores_mean + test_scores_std, alpha=0.1, color=\"g\")\n",
    "    plt.plot(train_sizes, train_scores_mean, 'o-', color=\"r\",\n",
    "             label=\"Training score\")\n",
    "    plt.plot(train_sizes, test_scores_mean, 'o-', color=\"g\",\n",
    "             label=\"Cross-validation score\")\n",
    "\n",
    "    plt.legend(loc=\"best\")\n",
    "    return plt\n",
    "\n",
    "# Plot the learning curve\n",
    "plot_learning_curve(rf, \"Learning Curve (Random Forest)\", X, y, cv=5)\n",
    "plt.show()\n"
   ]
  },
  {
   "cell_type": "code",
   "execution_count": null,
   "metadata": {},
   "outputs": [
    {
     "data": {
      "image/png": "[encoded data removed]",
      "text/plain": [
       "<Figure size 800x400 with 1 Axes>"
      ]
     },
     "metadata": {},
     "output_type": "display_data"
    }
   ],
   "source": [
    "import matplotlib.pyplot as plt\n",
    "\n",
    "# Create a scatter plot\n",
    "plt.figure(figsize=(8, 4))\n",
    "plt.scatter(y_test, rf_test_preds, alpha=1, s=10)\n",
    "plt.xlabel(\"Actual CO2 Emissions\")\n",
    "plt.ylabel(\"Predicted CO2 Emissions\")\n",
    "plt.title(\"Actual vs. Predicted CO2 Emissions (Random Forest Regressor)\")\n",
    "\n",
    "# Add a best-fit line\n",
    "z = np.polyfit(y_test, rf_test_preds, 1)\n",
    "p = np.poly1d(z)\n",
    "plt.plot(y_test, p(y_test), color='red')\n",
    "\n",
    "plt.show()\n"
   ]
  },
  {
   "cell_type": "markdown",
   "metadata": {},
   "source": [
    "### Support Vector Machine"
   ]
  },
  {
   "cell_type": "code",
   "execution_count": null,
   "metadata": {},
   "outputs": [
    {
     "data": {
      "text/html": [
       "<style>#sk-container-id-8 {color: black;}#sk-container-id-8 pre{padding: 0;}#sk-container-id-8 div.sk-toggleable {background-color: white;}#sk-container-id-8 label.sk-toggleable__label {cursor: pointer;display: block;width: 100%;margin-bottom: 0;padding: 0.3em;box-sizing: border-box;text-align: center;}#sk-container-id-8 label.sk-toggleable__label-arrow:before {content: \"▸\";float: left;margin-right: 0.25em;color: #696969;}#sk-container-id-8 label.sk-toggleable__label-arrow:hover:before {color: black;}#sk-container-id-8 div.sk-estimator:hover label.sk-toggleable__label-arrow:before {color: black;}#sk-container-id-8 div.sk-toggleable__content {max-height: 0;max-width: 0;overflow: hidden;text-align: left;background-color: #f0f8ff;}#sk-container-id-8 div.sk-toggleable__content pre {margin: 0.2em;color: black;border-radius: 0.25em;background-color: #f0f8ff;}#sk-container-id-8 input.sk-toggleable__control:checked~div.sk-toggleable__content {max-height: 200px;max-width: 100%;overflow: auto;}#sk-container-id-8 input.sk-toggleable__control:checked~label.sk-toggleable__label-arrow:before {content: \"▾\";}#sk-container-id-8 div.sk-estimator input.sk-toggleable__control:checked~label.sk-toggleable__label {background-color: #d4ebff;}#sk-container-id-8 div.sk-label input.sk-toggleable__control:checked~label.sk-toggleable__label {background-color: #d4ebff;}#sk-container-id-8 input.sk-hidden--visually {border: 0;clip: rect(1px 1px 1px 1px);clip: rect(1px, 1px, 1px, 1px);height: 1px;margin: -1px;overflow: hidden;padding: 0;position: absolute;width: 1px;}#sk-container-id-8 div.sk-estimator {font-family: monospace;background-color: #f0f8ff;border: 1px dotted black;border-radius: 0.25em;box-sizing: border-box;margin-bottom: 0.5em;}#sk-container-id-8 div.sk-estimator:hover {background-color: #d4ebff;}#sk-container-id-8 div.sk-parallel-item::after {content: \"\";width: 100%;border-bottom: 1px solid gray;flex-grow: 1;}#sk-container-id-8 div.sk-label:hover label.sk-toggleable__label {background-color: #d4ebff;}#sk-container-id-8 div.sk-serial::before {content: \"\";position: absolute;border-left: 1px solid gray;box-sizing: border-box;top: 0;bottom: 0;left: 50%;z-index: 0;}#sk-container-id-8 div.sk-serial {display: flex;flex-direction: column;align-items: center;background-color: white;padding-right: 0.2em;padding-left: 0.2em;position: relative;}#sk-container-id-8 div.sk-item {position: relative;z-index: 1;}#sk-container-id-8 div.sk-parallel {display: flex;align-items: stretch;justify-content: center;background-color: white;position: relative;}#sk-container-id-8 div.sk-item::before, #sk-container-id-8 div.sk-parallel-item::before {content: \"\";position: absolute;border-left: 1px solid gray;box-sizing: border-box;top: 0;bottom: 0;left: 50%;z-index: -1;}#sk-container-id-8 div.sk-parallel-item {display: flex;flex-direction: column;z-index: 1;position: relative;background-color: white;}#sk-container-id-8 div.sk-parallel-item:first-child::after {align-self: flex-end;width: 50%;}#sk-container-id-8 div.sk-parallel-item:last-child::after {align-self: flex-start;width: 50%;}#sk-container-id-8 div.sk-parallel-item:only-child::after {width: 0;}#sk-container-id-8 div.sk-dashed-wrapped {border: 1px dashed gray;margin: 0 0.4em 0.5em 0.4em;box-sizing: border-box;padding-bottom: 0.4em;background-color: white;}#sk-container-id-8 div.sk-label label {font-family: monospace;font-weight: bold;display: inline-block;line-height: 1.2em;}#sk-container-id-8 div.sk-label-container {text-align: center;}#sk-container-id-8 div.sk-container {/* jupyter's `normalize.less` sets `[hidden] { display: none; }` but bootstrap.min.css set `[hidden] { display: none !important; }` so we also need the `!important` here to be able to override the default hidden behavior on the sphinx rendered scikit-learn.org. See: https://github.com/scikit-learn/scikit-learn/issues/21755 */display: inline-block !important;position: relative;}#sk-container-id-8 div.sk-text-repr-fallback {display: none;}</style><div id=\"sk-container-id-8\" class=\"sk-top-container\"><div class=\"sk-text-repr-fallback\"><pre>LinearSVR()</pre><b>In a Jupyter environment, please rerun this cell to show the HTML representation or trust the notebook. <br />On GitHub, the HTML representation is unable to render, please try loading this page with nbviewer.org.</b></div><div class=\"sk-container\" hidden><div class=\"sk-item\"><div class=\"sk-estimator sk-toggleable\"><input class=\"sk-toggleable__control sk-hidden--visually\" id=\"sk-estimator-id-8\" type=\"checkbox\" checked><label for=\"sk-estimator-id-8\" class=\"sk-toggleable__label sk-toggleable__label-arrow\">LinearSVR</label><div class=\"sk-toggleable__content\"><pre>LinearSVR()</pre></div></div></div></div></div>"
      ],
      "text/plain": [
       "LinearSVR()"
      ]
     },
     "execution_count": 167,
     "metadata": {},
     "output_type": "execute_result"
    }
   ],
   "source": [
    "# linear SVR\n",
    "from sklearn.svm import LinearSVR\n",
    "# fit the model \n",
    "svr = LinearSVR()\n",
    "svr.fit(X_train, y_train)"
   ]
  },
  {
   "cell_type": "code",
   "execution_count": null,
   "metadata": {},
   "outputs": [
    {
     "data": {
      "text/html": [
       "<style>#sk-container-id-4 {color: black;}#sk-container-id-4 pre{padding: 0;}#sk-container-id-4 div.sk-toggleable {background-color: white;}#sk-container-id-4 label.sk-toggleable__label {cursor: pointer;display: block;width: 100%;margin-bottom: 0;padding: 0.3em;box-sizing: border-box;text-align: center;}#sk-container-id-4 label.sk-toggleable__label-arrow:before {content: \"▸\";float: left;margin-right: 0.25em;color: #696969;}#sk-container-id-4 label.sk-toggleable__label-arrow:hover:before {color: black;}#sk-container-id-4 div.sk-estimator:hover label.sk-toggleable__label-arrow:before {color: black;}#sk-container-id-4 div.sk-toggleable__content {max-height: 0;max-width: 0;overflow: hidden;text-align: left;background-color: #f0f8ff;}#sk-container-id-4 div.sk-toggleable__content pre {margin: 0.2em;color: black;border-radius: 0.25em;background-color: #f0f8ff;}#sk-container-id-4 input.sk-toggleable__control:checked~div.sk-toggleable__content {max-height: 200px;max-width: 100%;overflow: auto;}#sk-container-id-4 input.sk-toggleable__control:checked~label.sk-toggleable__label-arrow:before {content: \"▾\";}#sk-container-id-4 div.sk-estimator input.sk-toggleable__control:checked~label.sk-toggleable__label {background-color: #d4ebff;}#sk-container-id-4 div.sk-label input.sk-toggleable__control:checked~label.sk-toggleable__label {background-color: #d4ebff;}#sk-container-id-4 input.sk-hidden--visually {border: 0;clip: rect(1px 1px 1px 1px);clip: rect(1px, 1px, 1px, 1px);height: 1px;margin: -1px;overflow: hidden;padding: 0;position: absolute;width: 1px;}#sk-container-id-4 div.sk-estimator {font-family: monospace;background-color: #f0f8ff;border: 1px dotted black;border-radius: 0.25em;box-sizing: border-box;margin-bottom: 0.5em;}#sk-container-id-4 div.sk-estimator:hover {background-color: #d4ebff;}#sk-container-id-4 div.sk-parallel-item::after {content: \"\";width: 100%;border-bottom: 1px solid gray;flex-grow: 1;}#sk-container-id-4 div.sk-label:hover label.sk-toggleable__label {background-color: #d4ebff;}#sk-container-id-4 div.sk-serial::before {content: \"\";position: absolute;border-left: 1px solid gray;box-sizing: border-box;top: 0;bottom: 0;left: 50%;z-index: 0;}#sk-container-id-4 div.sk-serial {display: flex;flex-direction: column;align-items: center;background-color: white;padding-right: 0.2em;padding-left: 0.2em;position: relative;}#sk-container-id-4 div.sk-item {position: relative;z-index: 1;}#sk-container-id-4 div.sk-parallel {display: flex;align-items: stretch;justify-content: center;background-color: white;position: relative;}#sk-container-id-4 div.sk-item::before, #sk-container-id-4 div.sk-parallel-item::before {content: \"\";position: absolute;border-left: 1px solid gray;box-sizing: border-box;top: 0;bottom: 0;left: 50%;z-index: -1;}#sk-container-id-4 div.sk-parallel-item {display: flex;flex-direction: column;z-index: 1;position: relative;background-color: white;}#sk-container-id-4 div.sk-parallel-item:first-child::after {align-self: flex-end;width: 50%;}#sk-container-id-4 div.sk-parallel-item:last-child::after {align-self: flex-start;width: 50%;}#sk-container-id-4 div.sk-parallel-item:only-child::after {width: 0;}#sk-container-id-4 div.sk-dashed-wrapped {border: 1px dashed gray;margin: 0 0.4em 0.5em 0.4em;box-sizing: border-box;padding-bottom: 0.4em;background-color: white;}#sk-container-id-4 div.sk-label label {font-family: monospace;font-weight: bold;display: inline-block;line-height: 1.2em;}#sk-container-id-4 div.sk-label-container {text-align: center;}#sk-container-id-4 div.sk-container {/* jupyter's `normalize.less` sets `[hidden] { display: none; }` but bootstrap.min.css set `[hidden] { display: none !important; }` so we also need the `!important` here to be able to override the default hidden behavior on the sphinx rendered scikit-learn.org. See: https://github.com/scikit-learn/scikit-learn/issues/21755 */display: inline-block !important;position: relative;}#sk-container-id-4 div.sk-text-repr-fallback {display: none;}</style><div id=\"sk-container-id-4\" class=\"sk-top-container\"><div class=\"sk-text-repr-fallback\"><pre>SVR()</pre><b>In a Jupyter environment, please rerun this cell to show the HTML representation or trust the notebook. <br />On GitHub, the HTML representation is unable to render, please try loading this page with nbviewer.org.</b></div><div class=\"sk-container\" hidden><div class=\"sk-item\"><div class=\"sk-estimator sk-toggleable\"><input class=\"sk-toggleable__control sk-hidden--visually\" id=\"sk-estimator-id-4\" type=\"checkbox\" checked><label for=\"sk-estimator-id-4\" class=\"sk-toggleable__label sk-toggleable__label-arrow\">SVR</label><div class=\"sk-toggleable__content\"><pre>SVR()</pre></div></div></div></div></div>"
      ],
      "text/plain": [
       "SVR()"
      ]
     },
     "execution_count": 68,
     "metadata": {},
     "output_type": "execute_result"
    }
   ],
   "source": [
    "# from sklearn.svm import SVR\n",
    "# # Create and train the SVR model\n",
    "# svr = SVR()\n",
    "# svr.fit(X_train, y_train)"
   ]
  },
  {
   "cell_type": "code",
   "execution_count": null,
   "metadata": {},
   "outputs": [],
   "source": [
    "from sklearn.svm import SVR\n",
    "from sklearn.metrics import mean_squared_error, mean_absolute_error, r2_score\n",
    "from sklearn.model_selection import cross_val_score\n",
    "\n",
    "# Predict on the training data\n",
    "svr_train_preds = svr.predict(X_train)\n",
    "\n",
    "# Calculate RMSE, MAE, and R2 for training data\n",
    "svr_rmse_train = np.sqrt(mean_squared_error(y_train, svr_train_preds))\n",
    "svr_mae_train = mean_absolute_error(y_train, svr_train_preds)\n",
    "svr_r2_train = r2_score(y_train, svr_train_preds)\n",
    "\n",
    "# Predict on the testing data\n",
    "svr_test_preds = svr.predict(X_test)\n",
    "\n",
    "# Calculate RMSE, MAE, and R2 for testing data\n",
    "svr_rmse_test = np.sqrt(mean_squared_error(y_test, svr_test_preds))\n",
    "svr_mae_test = mean_absolute_error(y_test, svr_test_preds)\n",
    "svr_r2_test = r2_score(y_test, svr_test_preds)\n",
    "\n",
    "# Perform cross-validation (5-fold in this example)\n",
    "cv_scores = cross_val_score(svr, X_train, y_train, cv=5, scoring='r2')\n",
    "# Calculate the mean R2 score from cross-validation\n",
    "mean_r2 = cv_scores.mean()\n",
    "\n",
    "# Append the results to the DataFrame\n",
    "results = results.append({'Model': 'Support Vector Regression (LinearSVR)',\n",
    "                          'Training Accuracy': svr_r2_train,\n",
    "                          'Training RMSE': svr_rmse_train,\n",
    "                          'Training MAE': svr_mae_train,\n",
    "                          'Testing Accuracy': svr_r2_test,\n",
    "                          'Testing RMSE': svr_rmse_test,\n",
    "                          'Testing MAE': svr_mae_test,\n",
    "                          'Mean Cross-Validation Accuracy': mean_r2}, ignore_index=True)\n"
   ]
  },
  {
   "cell_type": "code",
   "execution_count": 285,
   "metadata": {},
   "outputs": [
    {
     "data": {
      "text/html": [
       "<div>\n",
       "<style scoped>\n",
       "    .dataframe tbody tr th:only-of-type {\n",
       "        vertical-align: middle;\n",
       "    }\n",
       "\n",
       "    .dataframe tbody tr th {\n",
       "        vertical-align: top;\n",
       "    }\n",
       "\n",
       "    .dataframe thead th {\n",
       "        text-align: right;\n",
       "    }\n",
       "</style>\n",
       "<table border=\"1\" class=\"dataframe\">\n",
       "  <thead>\n",
       "    <tr style=\"text-align: right;\">\n",
       "      <th></th>\n",
       "      <th>Model</th>\n",
       "      <th>Training Accuracy</th>\n",
       "      <th>Training RMSE</th>\n",
       "      <th>Training MAE</th>\n",
       "      <th>Testing Accuracy</th>\n",
       "      <th>Testing RMSE</th>\n",
       "      <th>Testing MAE</th>\n",
       "      <th>Mean Cross-Validation Accuracy</th>\n",
       "    </tr>\n",
       "  </thead>\n",
       "  <tbody>\n",
       "    <tr>\n",
       "      <th>0</th>\n",
       "      <td>Linear Regression</td>\n",
       "      <td>0.905411</td>\n",
       "      <td>18.486746</td>\n",
       "      <td>11.719272</td>\n",
       "      <td>0.912305</td>\n",
       "      <td>17.902557</td>\n",
       "      <td>11.480338</td>\n",
       "      <td>0.905314</td>\n",
       "    </tr>\n",
       "    <tr>\n",
       "      <th>1</th>\n",
       "      <td>Decision Tree Regressor</td>\n",
       "      <td>0.897972</td>\n",
       "      <td>19.199965</td>\n",
       "      <td>12.093846</td>\n",
       "      <td>0.897662</td>\n",
       "      <td>19.339580</td>\n",
       "      <td>12.141641</td>\n",
       "      <td>0.887056</td>\n",
       "    </tr>\n",
       "    <tr>\n",
       "      <th>2</th>\n",
       "      <td>Random Forest Regressor</td>\n",
       "      <td>0.906404</td>\n",
       "      <td>18.389481</td>\n",
       "      <td>10.660045</td>\n",
       "      <td>0.905895</td>\n",
       "      <td>18.545311</td>\n",
       "      <td>10.697047</td>\n",
       "      <td>0.898004</td>\n",
       "    </tr>\n",
       "    <tr>\n",
       "      <th>3</th>\n",
       "      <td>Support Vector Regression (SVR)</td>\n",
       "      <td>0.832605</td>\n",
       "      <td>24.593047</td>\n",
       "      <td>6.686662</td>\n",
       "      <td>0.851799</td>\n",
       "      <td>23.273111</td>\n",
       "      <td>6.182897</td>\n",
       "      <td>0.832687</td>\n",
       "    </tr>\n",
       "    <tr>\n",
       "      <th>4</th>\n",
       "      <td>Support Vector linear Regression (SVR)</td>\n",
       "      <td>0.832605</td>\n",
       "      <td>24.593047</td>\n",
       "      <td>6.686662</td>\n",
       "      <td>0.851799</td>\n",
       "      <td>23.273111</td>\n",
       "      <td>6.182897</td>\n",
       "      <td>0.832672</td>\n",
       "    </tr>\n",
       "  </tbody>\n",
       "</table>\n",
       "</div>"
      ],
      "text/plain": [
       "                                    Model  Training Accuracy  Training RMSE  \\\n",
       "0                       Linear Regression           0.905411      18.486746   \n",
       "1                 Decision Tree Regressor           0.897972      19.199965   \n",
       "2                Random Forest Regressor            0.906404      18.389481   \n",
       "3         Support Vector Regression (SVR)           0.832605      24.593047   \n",
       "4  Support Vector linear Regression (SVR)           0.832605      24.593047   \n",
       "\n",
       "   Training MAE  Testing Accuracy  Testing RMSE  Testing MAE  \\\n",
       "0     11.719272          0.912305     17.902557    11.480338   \n",
       "1     12.093846          0.897662     19.339580    12.141641   \n",
       "2     10.660045          0.905895     18.545311    10.697047   \n",
       "3      6.686662          0.851799     23.273111     6.182897   \n",
       "4      6.686662          0.851799     23.273111     6.182897   \n",
       "\n",
       "   Mean Cross-Validation Accuracy  \n",
       "0                        0.905314  \n",
       "1                        0.887056  \n",
       "2                        0.898004  \n",
       "3                        0.832687  \n",
       "4                        0.832672  "
      ]
     },
     "execution_count": 285,
     "metadata": {},
     "output_type": "execute_result"
    }
   ],
   "source": [
    "results"
   ]
  },
  {
   "cell_type": "code",
   "execution_count": null,
   "metadata": {},
   "outputs": [
    {
     "data": {
      "image/png": "[encoded data removed]",
      "text/plain": [
       "<Figure size 600x400 with 1 Axes>"
      ]
     },
     "metadata": {},
     "output_type": "display_data"
    }
   ],
   "source": [
    "import matplotlib.pyplot as plt\n",
    "\n",
    "\n",
    "# Create a scatter plot of actual vs. predicted values\n",
    "plt.figure(figsize=(6, 4))  \n",
    "plt.scatter(y_test, svr_test_preds, s=10, label='Actual')\n",
    "plt.xlabel('Actual Values')\n",
    "plt.ylabel('Predicted Values')\n",
    "plt.title('Actual vs Predicted Values (SVR)')\n",
    "\n",
    "# Add a diagonal line to indicate perfect predictions\n",
    "plt.plot([min(y_test), max(y_test)], [min(y_test), max(y_test)], color='red', linestyle='--', lw=2, label=' Predicted')\n",
    "\n",
    "plt.legend()\n",
    "plt.show()\n"
   ]
  },
  {
   "cell_type": "code",
   "execution_count": 234,
   "metadata": {},
   "outputs": [],
   "source": [
    "x_train, x_test, Y_train, Y_test = train_test_split(X, y,test_size=0.2, random_state=42)"
   ]
  },
  {
   "cell_type": "code",
   "execution_count": 245,
   "metadata": {},
   "outputs": [
    {
     "name": "stdout",
     "output_type": "stream",
     "text": [
      "0.9123053742689656\n"
     ]
    }
   ],
   "source": [
    "\n",
    "# linear model\n",
    "from sklearn.linear_model import LinearRegression\n",
    "lr = LinearRegression()\n",
    "from sklearn.metrics import mean_squared_error, mean_absolute_error, r2_score\n",
    "from sklearn.model_selection import cross_val_score\n",
    "\n",
    "X_train, X_test, y_train, y_test = train_test_split(X, y,test_size=0.2, random_state=42)\n",
    "lr.fit(X_train, y_train)\n",
    "prediction = lr.predict(X_test)\n",
    "print(lr.score(X_test, y_test))"
   ]
  },
  {
   "cell_type": "code",
   "execution_count": 247,
   "metadata": {},
   "outputs": [
    {
     "data": {
      "text/html": [
       "<div>\n",
       "<style scoped>\n",
       "    .dataframe tbody tr th:only-of-type {\n",
       "        vertical-align: middle;\n",
       "    }\n",
       "\n",
       "    .dataframe tbody tr th {\n",
       "        vertical-align: top;\n",
       "    }\n",
       "\n",
       "    .dataframe thead th {\n",
       "        text-align: right;\n",
       "    }\n",
       "</style>\n",
       "<table border=\"1\" class=\"dataframe\">\n",
       "  <thead>\n",
       "    <tr style=\"text-align: right;\">\n",
       "      <th></th>\n",
       "      <th>Actual</th>\n",
       "      <th>Predicted</th>\n",
       "    </tr>\n",
       "  </thead>\n",
       "  <tbody>\n",
       "    <tr>\n",
       "      <th>23759</th>\n",
       "      <td>280</td>\n",
       "      <td>276.197043</td>\n",
       "    </tr>\n",
       "    <tr>\n",
       "      <th>21356</th>\n",
       "      <td>352</td>\n",
       "      <td>331.072869</td>\n",
       "    </tr>\n",
       "    <tr>\n",
       "      <th>7708</th>\n",
       "      <td>299</td>\n",
       "      <td>368.470994</td>\n",
       "    </tr>\n",
       "    <tr>\n",
       "      <th>20514</th>\n",
       "      <td>254</td>\n",
       "      <td>257.249867</td>\n",
       "    </tr>\n",
       "    <tr>\n",
       "      <th>23974</th>\n",
       "      <td>210</td>\n",
       "      <td>199.234720</td>\n",
       "    </tr>\n",
       "    <tr>\n",
       "      <th>20741</th>\n",
       "      <td>273</td>\n",
       "      <td>269.109764</td>\n",
       "    </tr>\n",
       "    <tr>\n",
       "      <th>14214</th>\n",
       "      <td>262</td>\n",
       "      <td>266.988028</td>\n",
       "    </tr>\n",
       "    <tr>\n",
       "      <th>23079</th>\n",
       "      <td>261</td>\n",
       "      <td>261.213281</td>\n",
       "    </tr>\n",
       "    <tr>\n",
       "      <th>99</th>\n",
       "      <td>260</td>\n",
       "      <td>258.797700</td>\n",
       "    </tr>\n",
       "    <tr>\n",
       "      <th>2501</th>\n",
       "      <td>343</td>\n",
       "      <td>339.444869</td>\n",
       "    </tr>\n",
       "  </tbody>\n",
       "</table>\n",
       "</div>"
      ],
      "text/plain": [
       "       Actual   Predicted\n",
       "23759     280  276.197043\n",
       "21356     352  331.072869\n",
       "7708      299  368.470994\n",
       "20514     254  257.249867\n",
       "23974     210  199.234720\n",
       "20741     273  269.109764\n",
       "14214     262  266.988028\n",
       "23079     261  261.213281\n",
       "99        260  258.797700\n",
       "2501      343  339.444869"
      ]
     },
     "execution_count": 247,
     "metadata": {},
     "output_type": "execute_result"
    }
   ],
   "source": [
    "# actual vs predicted\n",
    "lr_prediction = pd.DataFrame({'Actual': y_test, 'Predicted': lr.predict(X_test)})\n",
    "lr_prediction.head(10)"
   ]
  },
  {
   "cell_type": "code",
   "execution_count": 250,
   "metadata": {},
   "outputs": [
    {
     "data": {
      "text/plain": [
       "array([276.19704257, 331.07286907, 368.47099353, ..., 184.18059623,\n",
       "       311.01906137, 172.06718015])"
      ]
     },
     "execution_count": 250,
     "metadata": {},
     "output_type": "execute_result"
    }
   ],
   "source": [
    "prediction"
   ]
  },
  {
   "cell_type": "code",
   "execution_count": 249,
   "metadata": {},
   "outputs": [
    {
     "data": {
      "text/html": [
       "<div>\n",
       "<style scoped>\n",
       "    .dataframe tbody tr th:only-of-type {\n",
       "        vertical-align: middle;\n",
       "    }\n",
       "\n",
       "    .dataframe tbody tr th {\n",
       "        vertical-align: top;\n",
       "    }\n",
       "\n",
       "    .dataframe thead th {\n",
       "        text-align: right;\n",
       "    }\n",
       "</style>\n",
       "<table border=\"1\" class=\"dataframe\">\n",
       "  <thead>\n",
       "    <tr style=\"text-align: right;\">\n",
       "      <th></th>\n",
       "      <th>MODEL YEAR</th>\n",
       "      <th>VEHICLE CLASS</th>\n",
       "      <th>ENGINE SIZE (L)</th>\n",
       "      <th>CYLINDERS</th>\n",
       "      <th>TRANSMISSION</th>\n",
       "      <th>FUEL TYPE</th>\n",
       "      <th>FUEL C (L/100 km)</th>\n",
       "    </tr>\n",
       "  </thead>\n",
       "  <tbody>\n",
       "    <tr>\n",
       "      <th>23759</th>\n",
       "      <td>2020</td>\n",
       "      <td>8</td>\n",
       "      <td>3.6</td>\n",
       "      <td>6</td>\n",
       "      <td>1</td>\n",
       "      <td>4</td>\n",
       "      <td>11.9</td>\n",
       "    </tr>\n",
       "    <tr>\n",
       "      <th>21356</th>\n",
       "      <td>2018</td>\n",
       "      <td>2</td>\n",
       "      <td>6.2</td>\n",
       "      <td>8</td>\n",
       "      <td>4</td>\n",
       "      <td>3</td>\n",
       "      <td>15.1</td>\n",
       "    </tr>\n",
       "    <tr>\n",
       "      <th>7708</th>\n",
       "      <td>2005</td>\n",
       "      <td>8</td>\n",
       "      <td>5.3</td>\n",
       "      <td>8</td>\n",
       "      <td>1</td>\n",
       "      <td>1</td>\n",
       "      <td>18.7</td>\n",
       "    </tr>\n",
       "    <tr>\n",
       "      <th>20514</th>\n",
       "      <td>2017</td>\n",
       "      <td>8</td>\n",
       "      <td>3.5</td>\n",
       "      <td>6</td>\n",
       "      <td>1</td>\n",
       "      <td>4</td>\n",
       "      <td>10.8</td>\n",
       "    </tr>\n",
       "    <tr>\n",
       "      <th>23974</th>\n",
       "      <td>2020</td>\n",
       "      <td>2</td>\n",
       "      <td>2.0</td>\n",
       "      <td>4</td>\n",
       "      <td>2</td>\n",
       "      <td>3</td>\n",
       "      <td>9.0</td>\n",
       "    </tr>\n",
       "    <tr>\n",
       "      <th>...</th>\n",
       "      <td>...</td>\n",
       "      <td>...</td>\n",
       "      <td>...</td>\n",
       "      <td>...</td>\n",
       "      <td>...</td>\n",
       "      <td>...</td>\n",
       "      <td>...</td>\n",
       "    </tr>\n",
       "    <tr>\n",
       "      <th>23153</th>\n",
       "      <td>2019</td>\n",
       "      <td>8</td>\n",
       "      <td>2.5</td>\n",
       "      <td>4</td>\n",
       "      <td>2</td>\n",
       "      <td>4</td>\n",
       "      <td>7.8</td>\n",
       "    </tr>\n",
       "    <tr>\n",
       "      <th>14095</th>\n",
       "      <td>2011</td>\n",
       "      <td>2</td>\n",
       "      <td>2.5</td>\n",
       "      <td>6</td>\n",
       "      <td>2</td>\n",
       "      <td>3</td>\n",
       "      <td>8.7</td>\n",
       "    </tr>\n",
       "    <tr>\n",
       "      <th>10501</th>\n",
       "      <td>2008</td>\n",
       "      <td>7</td>\n",
       "      <td>2.4</td>\n",
       "      <td>4</td>\n",
       "      <td>1</td>\n",
       "      <td>3</td>\n",
       "      <td>8.0</td>\n",
       "    </tr>\n",
       "    <tr>\n",
       "      <th>25179</th>\n",
       "      <td>2022</td>\n",
       "      <td>8</td>\n",
       "      <td>4.0</td>\n",
       "      <td>8</td>\n",
       "      <td>2</td>\n",
       "      <td>3</td>\n",
       "      <td>13.9</td>\n",
       "    </tr>\n",
       "    <tr>\n",
       "      <th>16794</th>\n",
       "      <td>2014</td>\n",
       "      <td>0</td>\n",
       "      <td>2.0</td>\n",
       "      <td>4</td>\n",
       "      <td>1</td>\n",
       "      <td>3</td>\n",
       "      <td>7.5</td>\n",
       "    </tr>\n",
       "  </tbody>\n",
       "</table>\n",
       "<p>5380 rows × 7 columns</p>\n",
       "</div>"
      ],
      "text/plain": [
       "       MODEL YEAR  VEHICLE CLASS  ENGINE SIZE (L)  CYLINDERS  TRANSMISSION  \\\n",
       "23759        2020              8              3.6          6             1   \n",
       "21356        2018              2              6.2          8             4   \n",
       "7708         2005              8              5.3          8             1   \n",
       "20514        2017              8              3.5          6             1   \n",
       "23974        2020              2              2.0          4             2   \n",
       "...           ...            ...              ...        ...           ...   \n",
       "23153        2019              8              2.5          4             2   \n",
       "14095        2011              2              2.5          6             2   \n",
       "10501        2008              7              2.4          4             1   \n",
       "25179        2022              8              4.0          8             2   \n",
       "16794        2014              0              2.0          4             1   \n",
       "\n",
       "       FUEL TYPE  FUEL C (L/100 km)  \n",
       "23759          4               11.9  \n",
       "21356          3               15.1  \n",
       "7708           1               18.7  \n",
       "20514          4               10.8  \n",
       "23974          3                9.0  \n",
       "...          ...                ...  \n",
       "23153          4                7.8  \n",
       "14095          3                8.7  \n",
       "10501          3                8.0  \n",
       "25179          3               13.9  \n",
       "16794          3                7.5  \n",
       "\n",
       "[5380 rows x 7 columns]"
      ]
     },
     "execution_count": 249,
     "metadata": {},
     "output_type": "execute_result"
    }
   ],
   "source": [
    "X_test"
   ]
  },
  {
   "cell_type": "markdown",
   "metadata": {},
   "source": [
    "SAVING MODEL"
   ]
  },
  {
   "cell_type": "code",
   "execution_count": 282,
   "metadata": {},
   "outputs": [
    {
     "name": "stdout",
     "output_type": "stream",
     "text": [
      "Predicted Fuel Consumption (L/100 km): 11.23\n",
      "Co2 Emissions: 265.05\n"
     ]
    }
   ],
   "source": [
    "# user input for prediction\n",
    "\n",
    "import joblib\n",
    "\n",
    "# Load the saved Decision Tree model\n",
    "lr2 = joblib.load('fuel_C.pkl')\n",
    "# Previous code for prediction\n",
    "Fuel_c = lr2.predict([[2020,8,3.6,6,1,4]])\n",
    "\n",
    "# Extract the result as a single value\n",
    "Fuel_c_value = Fuel_c[0]\n",
    "\n",
    "print(f\"Predicted Fuel Consumption (L/100 km): {Fuel_c_value:.2f}\")\n",
    "\n",
    "# Example: Collect user input\n",
    "user_input = [2020,8,3.6,6,1,4,Fuel_c_value]\n",
    "# Use the loaded model to make predictions\n",
    "predictions = lr.predict([user_input])\n",
    "\n",
    "# Display the predictions\n",
    "print(f\"Co2 Emissions: {predictions[0]:.2f}\")\n"
   ]
  },
  {
   "cell_type": "code",
   "execution_count": 283,
   "metadata": {},
   "outputs": [
    {
     "data": {
      "text/plain": [
       "['LR_model.pkl']"
      ]
     },
     "execution_count": 283,
     "metadata": {},
     "output_type": "execute_result"
    }
   ],
   "source": [
    "import joblib\n",
    "\n",
    "joblib.dump(lr, 'LR_model.pkl')"
   ]
  }
 ],
 "metadata": {
  "kernelspec": {
   "display_name": "Python 3",
   "language": "python",
   "name": "python3"
  },
  "language_info": {
   "codemirror_mode": {
    "name": "ipython",
    "version": 3
   },
   "file_extension": ".py",
   "mimetype": "text/x-python",
   "name": "python",
   "nbconvert_exporter": "python",
   "pygments_lexer": "ipython3",
   "version": "3.10.12"
  },
  "orig_nbformat": 4
 },
 "nbformat": 4,
 "nbformat_minor": 2
}
